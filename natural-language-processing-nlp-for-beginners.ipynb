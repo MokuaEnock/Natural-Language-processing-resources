{
 "cells": [
  {
   "cell_type": "markdown",
   "id": "20bae2e9",
   "metadata": {},
   "source": [
    "https://www.kaggle.com/code/faressayah/natural-language-processing-nlp-for-beginners/notebook"
   ]
  },
  {
   "cell_type": "markdown",
   "id": "63cd0215",
   "metadata": {
    "papermill": {
     "duration": 0.0158,
     "end_time": "2023-01-29T22:55:14.197039",
     "exception": false,
     "start_time": "2023-01-29T22:55:14.181239",
     "status": "completed"
    },
    "tags": []
   },
   "source": [
    "# 📚 NLP (Natural Language Processing) with Python\n",
    "\n",
    "***\n",
    "\n",
    "Natural language processing (NLP) is a subfield of linguistics, computer science, and artificial intelligence concerned with the interactions between computers and human language, in particular how to program computers to process and analyze large amounts of natural language data.\n",
    "\n",
    "In this article, we will discuss a higher-level overview of the basics of Natural Language Processing, which basically consists of combining machine learning techniques with text, and using math and statistics to get that text in a format that the machine learning algorithms can understand!\n",
    "\n",
    "# 📝 Agenda\n",
    "\n",
    "> 1. Representing text as numerical data\n",
    "> 2. Reading a text-based dataset into pandas\n",
    "> 3. Vectorizing our dataset\n",
    "> 4. Building and evaluating a model\n",
    "> 5. Comparing models\n",
    "> 6. Examining a model for further insight\n",
    "> 7. Practicing this workflow on another dataset\n",
    "> 8. Tuning the vectorizer (discussion)\n",
    "\n",
    "---\n",
    "\n",
    "# 📌 Notebook Goals\n",
    "> In this notebook we will discuss a higher level overview of the basics of Natural Language Processing, which basically consists of combining machine learning techniques with text, and using math and statistics to get that text in a format that the machine learning algorithms can understand!"
   ]
  },
  {
   "cell_type": "code",
   "execution_count": 1,
   "id": "9beafed7",
   "metadata": {
    "execution": {
     "iopub.execute_input": "2023-01-29T22:55:14.227828Z",
     "iopub.status.busy": "2023-01-29T22:55:14.227369Z",
     "iopub.status.idle": "2023-01-29T22:55:15.264661Z",
     "shell.execute_reply": "2023-01-29T22:55:15.263346Z"
    },
    "papermill": {
     "duration": 1.056573,
     "end_time": "2023-01-29T22:55:15.267871",
     "exception": false,
     "start_time": "2023-01-29T22:55:14.211298",
     "status": "completed"
    },
    "tags": []
   },
   "outputs": [],
   "source": [
    "import pandas as pd\n",
    "import numpy as np\n",
    "import matplotlib.pyplot as plt\n",
    "import seaborn as sns\n",
    "\n",
    "%matplotlib inline\n",
    "sns.set_style(\"whitegrid\")\n",
    "plt.style.use(\"fivethirtyeight\")"
   ]
  },
  {
   "cell_type": "markdown",
   "id": "cdd00c12",
   "metadata": {
    "papermill": {
     "duration": 0.014525,
     "end_time": "2023-01-29T22:55:15.299026",
     "exception": false,
     "start_time": "2023-01-29T22:55:15.284501",
     "status": "completed"
    },
    "tags": []
   },
   "source": [
    "# 🔁 Representing text as numerical data"
   ]
  },
  {
   "cell_type": "code",
   "execution_count": 2,
   "id": "927b2354",
   "metadata": {
    "execution": {
     "iopub.execute_input": "2023-01-29T22:55:15.330113Z",
     "iopub.status.busy": "2023-01-29T22:55:15.329704Z",
     "iopub.status.idle": "2023-01-29T22:55:15.334542Z",
     "shell.execute_reply": "2023-01-29T22:55:15.333477Z"
    },
    "papermill": {
     "duration": 0.022937,
     "end_time": "2023-01-29T22:55:15.336822",
     "exception": false,
     "start_time": "2023-01-29T22:55:15.313885",
     "status": "completed"
    },
    "tags": []
   },
   "outputs": [],
   "source": [
    "# example text for model training (SMS messages)\n",
    "simple_train = ['call you tonight', 'Call me a cab', 'Please call me... PLEASE!']"
   ]
  },
  {
   "cell_type": "markdown",
   "id": "490ef423",
   "metadata": {
    "papermill": {
     "duration": 0.014177,
     "end_time": "2023-01-29T22:55:15.366184",
     "exception": false,
     "start_time": "2023-01-29T22:55:15.352007",
     "status": "completed"
    },
    "tags": []
   },
   "source": [
    "📌 From the [scikit-learn documentation](http://scikit-learn.org/stable/modules/feature_extraction.html#text-feature-extraction):\n",
    "\n",
    "> Text Analysis is a major application field for machine learning algorithms. However the raw data, a sequence of symbols cannot be fed directly to the algorithms themselves as most of them expect **numerical feature vectors with a fixed size** rather than the **raw text documents with variable length**.\n",
    "\n",
    "We will use [CountVectorizer](http://scikit-learn.org/stable/modules/generated/sklearn.feature_extraction.text.CountVectorizer.html) to \"convert text into a matrix of token counts\":"
   ]
  },
  {
   "cell_type": "code",
   "execution_count": 3,
   "id": "fbcd1053",
   "metadata": {
    "execution": {
     "iopub.execute_input": "2023-01-29T22:55:15.396680Z",
     "iopub.status.busy": "2023-01-29T22:55:15.396207Z",
     "iopub.status.idle": "2023-01-29T22:55:15.556367Z",
     "shell.execute_reply": "2023-01-29T22:55:15.555513Z"
    },
    "papermill": {
     "duration": 0.178199,
     "end_time": "2023-01-29T22:55:15.558752",
     "exception": false,
     "start_time": "2023-01-29T22:55:15.380553",
     "status": "completed"
    },
    "tags": []
   },
   "outputs": [
    {
     "data": {
      "text/plain": [
       "array(['cab', 'call', 'me', 'please', 'tonight', 'you'], dtype=object)"
      ]
     },
     "execution_count": 3,
     "metadata": {},
     "output_type": "execute_result"
    }
   ],
   "source": [
    "# import and instantiate CountVectorizer (with the default parameters)\n",
    "from sklearn.feature_extraction.text import CountVectorizer\n",
    "\n",
    "vect = CountVectorizer()\n",
    "\n",
    "# learn the 'vocabulary' of the training data (occurs in-place)\n",
    "vect.fit(simple_train)\n",
    "\n",
    "# examine the fitted vocabulary\n",
    "vect.get_feature_names_out()"
   ]
  },
  {
   "cell_type": "code",
   "execution_count": 4,
   "id": "ea9343cb",
   "metadata": {
    "execution": {
     "iopub.execute_input": "2023-01-29T22:55:15.589581Z",
     "iopub.status.busy": "2023-01-29T22:55:15.588983Z",
     "iopub.status.idle": "2023-01-29T22:55:15.595929Z",
     "shell.execute_reply": "2023-01-29T22:55:15.594772Z"
    },
    "papermill": {
     "duration": 0.024987,
     "end_time": "2023-01-29T22:55:15.598224",
     "exception": false,
     "start_time": "2023-01-29T22:55:15.573237",
     "status": "completed"
    },
    "tags": []
   },
   "outputs": [
    {
     "data": {
      "text/plain": [
       "<3x6 sparse matrix of type '<class 'numpy.int64'>'\n",
       "\twith 9 stored elements in Compressed Sparse Row format>"
      ]
     },
     "execution_count": 4,
     "metadata": {},
     "output_type": "execute_result"
    }
   ],
   "source": [
    "# transform training data into a 'document-term matrix'\n",
    "simple_train_dtm = vect.transform(simple_train)\n",
    "simple_train_dtm"
   ]
  },
  {
   "cell_type": "code",
   "execution_count": 5,
   "id": "28c34a43",
   "metadata": {
    "execution": {
     "iopub.execute_input": "2023-01-29T22:55:15.629037Z",
     "iopub.status.busy": "2023-01-29T22:55:15.628582Z",
     "iopub.status.idle": "2023-01-29T22:55:15.636784Z",
     "shell.execute_reply": "2023-01-29T22:55:15.635585Z"
    },
    "papermill": {
     "duration": 0.026358,
     "end_time": "2023-01-29T22:55:15.639076",
     "exception": false,
     "start_time": "2023-01-29T22:55:15.612718",
     "status": "completed"
    },
    "tags": []
   },
   "outputs": [
    {
     "data": {
      "text/plain": [
       "array([[0, 1, 0, 0, 1, 1],\n",
       "       [1, 1, 1, 0, 0, 0],\n",
       "       [0, 1, 1, 2, 0, 0]])"
      ]
     },
     "execution_count": 5,
     "metadata": {},
     "output_type": "execute_result"
    }
   ],
   "source": [
    "# convert sparse matrix to a dense matrix\n",
    "simple_train_dtm.toarray()"
   ]
  },
  {
   "cell_type": "code",
   "execution_count": 6,
   "id": "73772a38",
   "metadata": {
    "execution": {
     "iopub.execute_input": "2023-01-29T22:55:15.669961Z",
     "iopub.status.busy": "2023-01-29T22:55:15.669492Z",
     "iopub.status.idle": "2023-01-29T22:55:15.693918Z",
     "shell.execute_reply": "2023-01-29T22:55:15.692709Z"
    },
    "papermill": {
     "duration": 0.043489,
     "end_time": "2023-01-29T22:55:15.697158",
     "exception": false,
     "start_time": "2023-01-29T22:55:15.653669",
     "status": "completed"
    },
    "tags": []
   },
   "outputs": [
    {
     "name": "stderr",
     "output_type": "stream",
     "text": [
      "/opt/conda/lib/python3.7/site-packages/sklearn/utils/deprecation.py:87: FutureWarning: Function get_feature_names is deprecated; get_feature_names is deprecated in 1.0 and will be removed in 1.2. Please use get_feature_names_out instead.\n",
      "  warnings.warn(msg, category=FutureWarning)\n"
     ]
    },
    {
     "data": {
      "text/html": [
       "<div>\n",
       "<style scoped>\n",
       "    .dataframe tbody tr th:only-of-type {\n",
       "        vertical-align: middle;\n",
       "    }\n",
       "\n",
       "    .dataframe tbody tr th {\n",
       "        vertical-align: top;\n",
       "    }\n",
       "\n",
       "    .dataframe thead th {\n",
       "        text-align: right;\n",
       "    }\n",
       "</style>\n",
       "<table border=\"1\" class=\"dataframe\">\n",
       "  <thead>\n",
       "    <tr style=\"text-align: right;\">\n",
       "      <th></th>\n",
       "      <th>cab</th>\n",
       "      <th>call</th>\n",
       "      <th>me</th>\n",
       "      <th>please</th>\n",
       "      <th>tonight</th>\n",
       "      <th>you</th>\n",
       "    </tr>\n",
       "  </thead>\n",
       "  <tbody>\n",
       "    <tr>\n",
       "      <th>0</th>\n",
       "      <td>0</td>\n",
       "      <td>1</td>\n",
       "      <td>0</td>\n",
       "      <td>0</td>\n",
       "      <td>1</td>\n",
       "      <td>1</td>\n",
       "    </tr>\n",
       "    <tr>\n",
       "      <th>1</th>\n",
       "      <td>1</td>\n",
       "      <td>1</td>\n",
       "      <td>1</td>\n",
       "      <td>0</td>\n",
       "      <td>0</td>\n",
       "      <td>0</td>\n",
       "    </tr>\n",
       "    <tr>\n",
       "      <th>2</th>\n",
       "      <td>0</td>\n",
       "      <td>1</td>\n",
       "      <td>1</td>\n",
       "      <td>2</td>\n",
       "      <td>0</td>\n",
       "      <td>0</td>\n",
       "    </tr>\n",
       "  </tbody>\n",
       "</table>\n",
       "</div>"
      ],
      "text/plain": [
       "   cab  call  me  please  tonight  you\n",
       "0    0     1   0       0        1    1\n",
       "1    1     1   1       0        0    0\n",
       "2    0     1   1       2        0    0"
      ]
     },
     "execution_count": 6,
     "metadata": {},
     "output_type": "execute_result"
    }
   ],
   "source": [
    "# examine the vocabulary and document-term matrix together\n",
    "pd.DataFrame(simple_train_dtm.toarray(), columns=vect.get_feature_names())"
   ]
  },
  {
   "cell_type": "markdown",
   "id": "29abac79",
   "metadata": {
    "papermill": {
     "duration": 0.014663,
     "end_time": "2023-01-29T22:55:15.726670",
     "exception": false,
     "start_time": "2023-01-29T22:55:15.712007",
     "status": "completed"
    },
    "tags": []
   },
   "source": [
    "📌 From the [scikit-learn documentation](http://scikit-learn.org/stable/modules/feature_extraction.html#text-feature-extraction):\n",
    "\n",
    "> In this scheme, features and samples are defined as follows:\n",
    "\n",
    "> - Each individual token occurrence frequency (normalized or not) is treated as a **feature**.\n",
    "> - The vector of all the token frequencies for a given document is considered a multivariate **sample**.\n",
    "\n",
    "> A **corpus of documents** can thus be represented by a matrix with **one row per document** and **one column per token** (e.g. word) occurring in the corpus.\n",
    "\n",
    "> We call **vectorization** the general process of turning a collection of text documents into numerical feature vectors. This specific strategy (tokenization, counting and normalization) is called the **Bag of Words** or \"Bag of n-grams\" representation. Documents are described by word occurrences while completely ignoring the relative position information of the words in the document."
   ]
  },
  {
   "cell_type": "code",
   "execution_count": 7,
   "id": "b6fec445",
   "metadata": {
    "execution": {
     "iopub.execute_input": "2023-01-29T22:55:15.758082Z",
     "iopub.status.busy": "2023-01-29T22:55:15.757674Z",
     "iopub.status.idle": "2023-01-29T22:55:15.764729Z",
     "shell.execute_reply": "2023-01-29T22:55:15.763616Z"
    },
    "papermill": {
     "duration": 0.027234,
     "end_time": "2023-01-29T22:55:15.768719",
     "exception": false,
     "start_time": "2023-01-29T22:55:15.741485",
     "status": "completed"
    },
    "tags": []
   },
   "outputs": [
    {
     "name": "stdout",
     "output_type": "stream",
     "text": [
      "<class 'scipy.sparse.csr.csr_matrix'>\n",
      "  (0, 1)\t1\n",
      "  (0, 4)\t1\n",
      "  (0, 5)\t1\n",
      "  (1, 0)\t1\n",
      "  (1, 1)\t1\n",
      "  (1, 2)\t1\n",
      "  (2, 1)\t1\n",
      "  (2, 2)\t1\n",
      "  (2, 3)\t2\n"
     ]
    }
   ],
   "source": [
    "# check the type of the document-term matrix\n",
    "print(type(simple_train_dtm))\n",
    "\n",
    "# examine the sparse matrix contents\n",
    "print(simple_train_dtm)"
   ]
  },
  {
   "cell_type": "markdown",
   "id": "dec2e1ac",
   "metadata": {
    "papermill": {
     "duration": 0.015003,
     "end_time": "2023-01-29T22:55:15.799334",
     "exception": false,
     "start_time": "2023-01-29T22:55:15.784331",
     "status": "completed"
    },
    "tags": []
   },
   "source": [
    "📌 From the [scikit-learn documentation](http://scikit-learn.org/stable/modules/feature_extraction.html#text-feature-extraction):\n",
    "\n",
    "> As most documents will typically use a very small subset of the words used in the corpus, the resulting matrix will have **many feature values that are zeros** (typically more than 99% of them).\n",
    "\n",
    "> For instance, a collection of 10,000 short text documents (such as emails) will use a vocabulary with a size in the order of 100,000 unique words in total while each document will use 100 to 1000 unique words individually.\n",
    "\n",
    "> In order to be able to **store such a matrix in memory** but also to **speed up operations**, implementations will typically use a **sparse representation** such as the implementations available in the `scipy.sparse` package."
   ]
  },
  {
   "cell_type": "code",
   "execution_count": 8,
   "id": "6d86426b",
   "metadata": {
    "execution": {
     "iopub.execute_input": "2023-01-29T22:55:15.831579Z",
     "iopub.status.busy": "2023-01-29T22:55:15.830746Z",
     "iopub.status.idle": "2023-01-29T22:55:15.835849Z",
     "shell.execute_reply": "2023-01-29T22:55:15.834942Z"
    },
    "papermill": {
     "duration": 0.02393,
     "end_time": "2023-01-29T22:55:15.838257",
     "exception": false,
     "start_time": "2023-01-29T22:55:15.814327",
     "status": "completed"
    },
    "tags": []
   },
   "outputs": [],
   "source": [
    "# example text for model testing\n",
    "simple_test = [\"please don't call me\"]"
   ]
  },
  {
   "cell_type": "markdown",
   "id": "5c2027f6",
   "metadata": {
    "papermill": {
     "duration": 0.014338,
     "end_time": "2023-01-29T22:55:15.867466",
     "exception": false,
     "start_time": "2023-01-29T22:55:15.853128",
     "status": "completed"
    },
    "tags": []
   },
   "source": [
    "> In order to **make a prediction**, the new observation must have the **same features as the training observations**, both in number and meaning."
   ]
  },
  {
   "cell_type": "code",
   "execution_count": 9,
   "id": "a47293f7",
   "metadata": {
    "execution": {
     "iopub.execute_input": "2023-01-29T22:55:15.899184Z",
     "iopub.status.busy": "2023-01-29T22:55:15.898380Z",
     "iopub.status.idle": "2023-01-29T22:55:15.906151Z",
     "shell.execute_reply": "2023-01-29T22:55:15.905223Z"
    },
    "papermill": {
     "duration": 0.026139,
     "end_time": "2023-01-29T22:55:15.908430",
     "exception": false,
     "start_time": "2023-01-29T22:55:15.882291",
     "status": "completed"
    },
    "tags": []
   },
   "outputs": [
    {
     "data": {
      "text/plain": [
       "array([[0, 1, 1, 1, 0, 0]])"
      ]
     },
     "execution_count": 9,
     "metadata": {},
     "output_type": "execute_result"
    }
   ],
   "source": [
    "# transform testing data into a document-term matrix (using existing vocabulary)\n",
    "simple_test_dtm = vect.transform(simple_test)\n",
    "simple_test_dtm.toarray()"
   ]
  },
  {
   "cell_type": "code",
   "execution_count": 10,
   "id": "4564b4c9",
   "metadata": {
    "execution": {
     "iopub.execute_input": "2023-01-29T22:55:15.942405Z",
     "iopub.status.busy": "2023-01-29T22:55:15.941614Z",
     "iopub.status.idle": "2023-01-29T22:55:15.953098Z",
     "shell.execute_reply": "2023-01-29T22:55:15.952033Z"
    },
    "papermill": {
     "duration": 0.030947,
     "end_time": "2023-01-29T22:55:15.955245",
     "exception": false,
     "start_time": "2023-01-29T22:55:15.924298",
     "status": "completed"
    },
    "tags": []
   },
   "outputs": [
    {
     "data": {
      "text/html": [
       "<div>\n",
       "<style scoped>\n",
       "    .dataframe tbody tr th:only-of-type {\n",
       "        vertical-align: middle;\n",
       "    }\n",
       "\n",
       "    .dataframe tbody tr th {\n",
       "        vertical-align: top;\n",
       "    }\n",
       "\n",
       "    .dataframe thead th {\n",
       "        text-align: right;\n",
       "    }\n",
       "</style>\n",
       "<table border=\"1\" class=\"dataframe\">\n",
       "  <thead>\n",
       "    <tr style=\"text-align: right;\">\n",
       "      <th></th>\n",
       "      <th>cab</th>\n",
       "      <th>call</th>\n",
       "      <th>me</th>\n",
       "      <th>please</th>\n",
       "      <th>tonight</th>\n",
       "      <th>you</th>\n",
       "    </tr>\n",
       "  </thead>\n",
       "  <tbody>\n",
       "    <tr>\n",
       "      <th>0</th>\n",
       "      <td>0</td>\n",
       "      <td>1</td>\n",
       "      <td>1</td>\n",
       "      <td>1</td>\n",
       "      <td>0</td>\n",
       "      <td>0</td>\n",
       "    </tr>\n",
       "  </tbody>\n",
       "</table>\n",
       "</div>"
      ],
      "text/plain": [
       "   cab  call  me  please  tonight  you\n",
       "0    0     1   1       1        0    0"
      ]
     },
     "execution_count": 10,
     "metadata": {},
     "output_type": "execute_result"
    }
   ],
   "source": [
    "# examine the vocabulary and document-term matrix together\n",
    "pd.DataFrame(simple_test_dtm.toarray(), columns=vect.get_feature_names_out())"
   ]
  },
  {
   "cell_type": "markdown",
   "id": "3a066b43",
   "metadata": {
    "papermill": {
     "duration": 0.015727,
     "end_time": "2023-01-29T22:55:15.986755",
     "exception": false,
     "start_time": "2023-01-29T22:55:15.971028",
     "status": "completed"
    },
    "tags": []
   },
   "source": [
    "## 📋 **Summary:**\n",
    "\n",
    "> - `vect.fit(train)` **learns the vocabulary** of the training data\n",
    "> - `vect.transform(train)` uses the **fitted vocabulary** to build a document-term matrix from the training data\n",
    "> - `vect.transform(test)` uses the **fitted vocabulary** to build a document-term matrix from the testing data (and **ignores tokens** it hasn't seen before)"
   ]
  },
  {
   "cell_type": "markdown",
   "id": "22a1f510",
   "metadata": {
    "papermill": {
     "duration": 0.015411,
     "end_time": "2023-01-29T22:55:16.018227",
     "exception": false,
     "start_time": "2023-01-29T22:55:16.002816",
     "status": "completed"
    },
    "tags": []
   },
   "source": [
    "# 💾 Reading a text-based dataset into pandas"
   ]
  },
  {
   "cell_type": "code",
   "execution_count": 11,
   "id": "e47ea9c0",
   "metadata": {
    "execution": {
     "iopub.execute_input": "2023-01-29T22:55:16.051927Z",
     "iopub.status.busy": "2023-01-29T22:55:16.050827Z",
     "iopub.status.idle": "2023-01-29T22:55:16.094851Z",
     "shell.execute_reply": "2023-01-29T22:55:16.093967Z"
    },
    "papermill": {
     "duration": 0.063214,
     "end_time": "2023-01-29T22:55:16.097012",
     "exception": false,
     "start_time": "2023-01-29T22:55:16.033798",
     "status": "completed"
    },
    "tags": []
   },
   "outputs": [
    {
     "data": {
      "text/html": [
       "<div>\n",
       "<style scoped>\n",
       "    .dataframe tbody tr th:only-of-type {\n",
       "        vertical-align: middle;\n",
       "    }\n",
       "\n",
       "    .dataframe tbody tr th {\n",
       "        vertical-align: top;\n",
       "    }\n",
       "\n",
       "    .dataframe thead th {\n",
       "        text-align: right;\n",
       "    }\n",
       "</style>\n",
       "<table border=\"1\" class=\"dataframe\">\n",
       "  <thead>\n",
       "    <tr style=\"text-align: right;\">\n",
       "      <th></th>\n",
       "      <th>label</th>\n",
       "      <th>message</th>\n",
       "    </tr>\n",
       "  </thead>\n",
       "  <tbody>\n",
       "    <tr>\n",
       "      <th>0</th>\n",
       "      <td>ham</td>\n",
       "      <td>Go until jurong point, crazy.. Available only ...</td>\n",
       "    </tr>\n",
       "    <tr>\n",
       "      <th>1</th>\n",
       "      <td>ham</td>\n",
       "      <td>Ok lar... Joking wif u oni...</td>\n",
       "    </tr>\n",
       "    <tr>\n",
       "      <th>2</th>\n",
       "      <td>spam</td>\n",
       "      <td>Free entry in 2 a wkly comp to win FA Cup fina...</td>\n",
       "    </tr>\n",
       "    <tr>\n",
       "      <th>3</th>\n",
       "      <td>ham</td>\n",
       "      <td>U dun say so early hor... U c already then say...</td>\n",
       "    </tr>\n",
       "    <tr>\n",
       "      <th>4</th>\n",
       "      <td>ham</td>\n",
       "      <td>Nah I don't think he goes to usf, he lives aro...</td>\n",
       "    </tr>\n",
       "  </tbody>\n",
       "</table>\n",
       "</div>"
      ],
      "text/plain": [
       "  label                                            message\n",
       "0   ham  Go until jurong point, crazy.. Available only ...\n",
       "1   ham                      Ok lar... Joking wif u oni...\n",
       "2  spam  Free entry in 2 a wkly comp to win FA Cup fina...\n",
       "3   ham  U dun say so early hor... U c already then say...\n",
       "4   ham  Nah I don't think he goes to usf, he lives aro..."
      ]
     },
     "execution_count": 11,
     "metadata": {},
     "output_type": "execute_result"
    }
   ],
   "source": [
    "# read file into pandas using a relative path\n",
    "sms = pd.read_csv(\"/kaggle/input/sms-spam-collection-dataset/spam.csv\", encoding='latin-1')\n",
    "sms.dropna(how=\"any\", inplace=True, axis=1)\n",
    "sms.columns = ['label', 'message']\n",
    "\n",
    "sms.head()"
   ]
  },
  {
   "cell_type": "markdown",
   "id": "ea9f7489",
   "metadata": {
    "papermill": {
     "duration": 0.015027,
     "end_time": "2023-01-29T22:55:16.127374",
     "exception": false,
     "start_time": "2023-01-29T22:55:16.112347",
     "status": "completed"
    },
    "tags": []
   },
   "source": [
    "# 🔍 Exploratory Data Analysis (EDA)"
   ]
  },
  {
   "cell_type": "code",
   "execution_count": 12,
   "id": "75997087",
   "metadata": {
    "execution": {
     "iopub.execute_input": "2023-01-29T22:55:16.159830Z",
     "iopub.status.busy": "2023-01-29T22:55:16.159384Z",
     "iopub.status.idle": "2023-01-29T22:55:16.185933Z",
     "shell.execute_reply": "2023-01-29T22:55:16.184801Z"
    },
    "papermill": {
     "duration": 0.045689,
     "end_time": "2023-01-29T22:55:16.188333",
     "exception": false,
     "start_time": "2023-01-29T22:55:16.142644",
     "status": "completed"
    },
    "tags": []
   },
   "outputs": [
    {
     "data": {
      "text/html": [
       "<div>\n",
       "<style scoped>\n",
       "    .dataframe tbody tr th:only-of-type {\n",
       "        vertical-align: middle;\n",
       "    }\n",
       "\n",
       "    .dataframe tbody tr th {\n",
       "        vertical-align: top;\n",
       "    }\n",
       "\n",
       "    .dataframe thead th {\n",
       "        text-align: right;\n",
       "    }\n",
       "</style>\n",
       "<table border=\"1\" class=\"dataframe\">\n",
       "  <thead>\n",
       "    <tr style=\"text-align: right;\">\n",
       "      <th></th>\n",
       "      <th>label</th>\n",
       "      <th>message</th>\n",
       "    </tr>\n",
       "  </thead>\n",
       "  <tbody>\n",
       "    <tr>\n",
       "      <th>count</th>\n",
       "      <td>5572</td>\n",
       "      <td>5572</td>\n",
       "    </tr>\n",
       "    <tr>\n",
       "      <th>unique</th>\n",
       "      <td>2</td>\n",
       "      <td>5169</td>\n",
       "    </tr>\n",
       "    <tr>\n",
       "      <th>top</th>\n",
       "      <td>ham</td>\n",
       "      <td>Sorry, I'll call later</td>\n",
       "    </tr>\n",
       "    <tr>\n",
       "      <th>freq</th>\n",
       "      <td>4825</td>\n",
       "      <td>30</td>\n",
       "    </tr>\n",
       "  </tbody>\n",
       "</table>\n",
       "</div>"
      ],
      "text/plain": [
       "       label                 message\n",
       "count   5572                    5572\n",
       "unique     2                    5169\n",
       "top      ham  Sorry, I'll call later\n",
       "freq    4825                      30"
      ]
     },
     "execution_count": 12,
     "metadata": {},
     "output_type": "execute_result"
    }
   ],
   "source": [
    "sms.describe()"
   ]
  },
  {
   "cell_type": "code",
   "execution_count": 13,
   "id": "2ff8d066",
   "metadata": {
    "execution": {
     "iopub.execute_input": "2023-01-29T22:55:16.222519Z",
     "iopub.status.busy": "2023-01-29T22:55:16.221459Z",
     "iopub.status.idle": "2023-01-29T22:55:16.253270Z",
     "shell.execute_reply": "2023-01-29T22:55:16.252335Z"
    },
    "papermill": {
     "duration": 0.051489,
     "end_time": "2023-01-29T22:55:16.255885",
     "exception": false,
     "start_time": "2023-01-29T22:55:16.204396",
     "status": "completed"
    },
    "tags": []
   },
   "outputs": [
    {
     "data": {
      "text/html": [
       "<div>\n",
       "<style scoped>\n",
       "    .dataframe tbody tr th:only-of-type {\n",
       "        vertical-align: middle;\n",
       "    }\n",
       "\n",
       "    .dataframe tbody tr th {\n",
       "        vertical-align: top;\n",
       "    }\n",
       "\n",
       "    .dataframe thead tr th {\n",
       "        text-align: left;\n",
       "    }\n",
       "\n",
       "    .dataframe thead tr:last-of-type th {\n",
       "        text-align: right;\n",
       "    }\n",
       "</style>\n",
       "<table border=\"1\" class=\"dataframe\">\n",
       "  <thead>\n",
       "    <tr>\n",
       "      <th></th>\n",
       "      <th colspan=\"4\" halign=\"left\">message</th>\n",
       "    </tr>\n",
       "    <tr>\n",
       "      <th></th>\n",
       "      <th>count</th>\n",
       "      <th>unique</th>\n",
       "      <th>top</th>\n",
       "      <th>freq</th>\n",
       "    </tr>\n",
       "    <tr>\n",
       "      <th>label</th>\n",
       "      <th></th>\n",
       "      <th></th>\n",
       "      <th></th>\n",
       "      <th></th>\n",
       "    </tr>\n",
       "  </thead>\n",
       "  <tbody>\n",
       "    <tr>\n",
       "      <th>ham</th>\n",
       "      <td>4825</td>\n",
       "      <td>4516</td>\n",
       "      <td>Sorry, I'll call later</td>\n",
       "      <td>30</td>\n",
       "    </tr>\n",
       "    <tr>\n",
       "      <th>spam</th>\n",
       "      <td>747</td>\n",
       "      <td>653</td>\n",
       "      <td>Please call our customer service representativ...</td>\n",
       "      <td>4</td>\n",
       "    </tr>\n",
       "  </tbody>\n",
       "</table>\n",
       "</div>"
      ],
      "text/plain": [
       "      message                                                               \n",
       "        count unique                                                top freq\n",
       "label                                                                       \n",
       "ham      4825   4516                             Sorry, I'll call later   30\n",
       "spam      747    653  Please call our customer service representativ...    4"
      ]
     },
     "execution_count": 13,
     "metadata": {},
     "output_type": "execute_result"
    }
   ],
   "source": [
    "sms.groupby('label').describe()"
   ]
  },
  {
   "cell_type": "markdown",
   "id": "21116d4c",
   "metadata": {
    "papermill": {
     "duration": 0.016052,
     "end_time": "2023-01-29T22:55:16.287866",
     "exception": false,
     "start_time": "2023-01-29T22:55:16.271814",
     "status": "completed"
    },
    "tags": []
   },
   "source": [
    "We have `4825` ham message and `747` spam message"
   ]
  },
  {
   "cell_type": "code",
   "execution_count": 14,
   "id": "fd8c893f",
   "metadata": {
    "execution": {
     "iopub.execute_input": "2023-01-29T22:55:16.321846Z",
     "iopub.status.busy": "2023-01-29T22:55:16.321044Z",
     "iopub.status.idle": "2023-01-29T22:55:16.334209Z",
     "shell.execute_reply": "2023-01-29T22:55:16.333045Z"
    },
    "papermill": {
     "duration": 0.032715,
     "end_time": "2023-01-29T22:55:16.336548",
     "exception": false,
     "start_time": "2023-01-29T22:55:16.303833",
     "status": "completed"
    },
    "tags": []
   },
   "outputs": [
    {
     "data": {
      "text/html": [
       "<div>\n",
       "<style scoped>\n",
       "    .dataframe tbody tr th:only-of-type {\n",
       "        vertical-align: middle;\n",
       "    }\n",
       "\n",
       "    .dataframe tbody tr th {\n",
       "        vertical-align: top;\n",
       "    }\n",
       "\n",
       "    .dataframe thead th {\n",
       "        text-align: right;\n",
       "    }\n",
       "</style>\n",
       "<table border=\"1\" class=\"dataframe\">\n",
       "  <thead>\n",
       "    <tr style=\"text-align: right;\">\n",
       "      <th></th>\n",
       "      <th>label</th>\n",
       "      <th>message</th>\n",
       "      <th>label_num</th>\n",
       "    </tr>\n",
       "  </thead>\n",
       "  <tbody>\n",
       "    <tr>\n",
       "      <th>0</th>\n",
       "      <td>ham</td>\n",
       "      <td>Go until jurong point, crazy.. Available only ...</td>\n",
       "      <td>0</td>\n",
       "    </tr>\n",
       "    <tr>\n",
       "      <th>1</th>\n",
       "      <td>ham</td>\n",
       "      <td>Ok lar... Joking wif u oni...</td>\n",
       "      <td>0</td>\n",
       "    </tr>\n",
       "    <tr>\n",
       "      <th>2</th>\n",
       "      <td>spam</td>\n",
       "      <td>Free entry in 2 a wkly comp to win FA Cup fina...</td>\n",
       "      <td>1</td>\n",
       "    </tr>\n",
       "    <tr>\n",
       "      <th>3</th>\n",
       "      <td>ham</td>\n",
       "      <td>U dun say so early hor... U c already then say...</td>\n",
       "      <td>0</td>\n",
       "    </tr>\n",
       "    <tr>\n",
       "      <th>4</th>\n",
       "      <td>ham</td>\n",
       "      <td>Nah I don't think he goes to usf, he lives aro...</td>\n",
       "      <td>0</td>\n",
       "    </tr>\n",
       "  </tbody>\n",
       "</table>\n",
       "</div>"
      ],
      "text/plain": [
       "  label                                            message  label_num\n",
       "0   ham  Go until jurong point, crazy.. Available only ...          0\n",
       "1   ham                      Ok lar... Joking wif u oni...          0\n",
       "2  spam  Free entry in 2 a wkly comp to win FA Cup fina...          1\n",
       "3   ham  U dun say so early hor... U c already then say...          0\n",
       "4   ham  Nah I don't think he goes to usf, he lives aro...          0"
      ]
     },
     "execution_count": 14,
     "metadata": {},
     "output_type": "execute_result"
    }
   ],
   "source": [
    "# convert label to a numerical variable\n",
    "sms['label_num'] = sms.label.map({'ham':0, 'spam':1})\n",
    "sms.head()"
   ]
  },
  {
   "cell_type": "markdown",
   "id": "0e6e30ba",
   "metadata": {
    "papermill": {
     "duration": 0.015712,
     "end_time": "2023-01-29T22:55:16.368121",
     "exception": false,
     "start_time": "2023-01-29T22:55:16.352409",
     "status": "completed"
    },
    "tags": []
   },
   "source": [
    "> As we continue our analysis we want to start thinking about the features we are going to be using. This goes along with the general idea of feature engineering. The better your domain knowledge on the data, the better your ability to engineer more features from it. Feature engineering is a very large part of spam detection in general."
   ]
  },
  {
   "cell_type": "code",
   "execution_count": 15,
   "id": "a826ae1a",
   "metadata": {
    "execution": {
     "iopub.execute_input": "2023-01-29T22:55:16.402331Z",
     "iopub.status.busy": "2023-01-29T22:55:16.401529Z",
     "iopub.status.idle": "2023-01-29T22:55:16.415890Z",
     "shell.execute_reply": "2023-01-29T22:55:16.414624Z"
    },
    "papermill": {
     "duration": 0.034309,
     "end_time": "2023-01-29T22:55:16.418367",
     "exception": false,
     "start_time": "2023-01-29T22:55:16.384058",
     "status": "completed"
    },
    "tags": []
   },
   "outputs": [
    {
     "data": {
      "text/html": [
       "<div>\n",
       "<style scoped>\n",
       "    .dataframe tbody tr th:only-of-type {\n",
       "        vertical-align: middle;\n",
       "    }\n",
       "\n",
       "    .dataframe tbody tr th {\n",
       "        vertical-align: top;\n",
       "    }\n",
       "\n",
       "    .dataframe thead th {\n",
       "        text-align: right;\n",
       "    }\n",
       "</style>\n",
       "<table border=\"1\" class=\"dataframe\">\n",
       "  <thead>\n",
       "    <tr style=\"text-align: right;\">\n",
       "      <th></th>\n",
       "      <th>label</th>\n",
       "      <th>message</th>\n",
       "      <th>label_num</th>\n",
       "      <th>message_len</th>\n",
       "    </tr>\n",
       "  </thead>\n",
       "  <tbody>\n",
       "    <tr>\n",
       "      <th>0</th>\n",
       "      <td>ham</td>\n",
       "      <td>Go until jurong point, crazy.. Available only ...</td>\n",
       "      <td>0</td>\n",
       "      <td>111</td>\n",
       "    </tr>\n",
       "    <tr>\n",
       "      <th>1</th>\n",
       "      <td>ham</td>\n",
       "      <td>Ok lar... Joking wif u oni...</td>\n",
       "      <td>0</td>\n",
       "      <td>29</td>\n",
       "    </tr>\n",
       "    <tr>\n",
       "      <th>2</th>\n",
       "      <td>spam</td>\n",
       "      <td>Free entry in 2 a wkly comp to win FA Cup fina...</td>\n",
       "      <td>1</td>\n",
       "      <td>155</td>\n",
       "    </tr>\n",
       "    <tr>\n",
       "      <th>3</th>\n",
       "      <td>ham</td>\n",
       "      <td>U dun say so early hor... U c already then say...</td>\n",
       "      <td>0</td>\n",
       "      <td>49</td>\n",
       "    </tr>\n",
       "    <tr>\n",
       "      <th>4</th>\n",
       "      <td>ham</td>\n",
       "      <td>Nah I don't think he goes to usf, he lives aro...</td>\n",
       "      <td>0</td>\n",
       "      <td>61</td>\n",
       "    </tr>\n",
       "  </tbody>\n",
       "</table>\n",
       "</div>"
      ],
      "text/plain": [
       "  label                                            message  label_num  \\\n",
       "0   ham  Go until jurong point, crazy.. Available only ...          0   \n",
       "1   ham                      Ok lar... Joking wif u oni...          0   \n",
       "2  spam  Free entry in 2 a wkly comp to win FA Cup fina...          1   \n",
       "3   ham  U dun say so early hor... U c already then say...          0   \n",
       "4   ham  Nah I don't think he goes to usf, he lives aro...          0   \n",
       "\n",
       "   message_len  \n",
       "0          111  \n",
       "1           29  \n",
       "2          155  \n",
       "3           49  \n",
       "4           61  "
      ]
     },
     "execution_count": 15,
     "metadata": {},
     "output_type": "execute_result"
    }
   ],
   "source": [
    "sms['message_len'] = sms.message.apply(len)\n",
    "sms.head()"
   ]
  },
  {
   "cell_type": "code",
   "execution_count": 16,
   "id": "fdc94876",
   "metadata": {
    "execution": {
     "iopub.execute_input": "2023-01-29T22:55:16.453048Z",
     "iopub.status.busy": "2023-01-29T22:55:16.452242Z",
     "iopub.status.idle": "2023-01-29T22:55:16.898898Z",
     "shell.execute_reply": "2023-01-29T22:55:16.897589Z"
    },
    "papermill": {
     "duration": 0.466925,
     "end_time": "2023-01-29T22:55:16.901523",
     "exception": false,
     "start_time": "2023-01-29T22:55:16.434598",
     "status": "completed"
    },
    "tags": []
   },
   "outputs": [
    {
     "data": {
      "text/plain": [
       "Text(0.5, 0, 'Message Length')"
      ]
     },
     "execution_count": 16,
     "metadata": {},
     "output_type": "execute_result"
    },
    {
     "data": {
      "image/png": "[encoded data removed]",
      "text/plain": [
       "<Figure size 864x576 with 1 Axes>"
      ]
     },
     "metadata": {},
     "output_type": "display_data"
    }
   ],
   "source": [
    "plt.figure(figsize=(12, 8))\n",
    "\n",
    "sms[sms.label=='ham'].message_len.plot(bins=35, kind='hist', color='blue', \n",
    "                                       label='Ham messages', alpha=0.6)\n",
    "sms[sms.label=='spam'].message_len.plot(kind='hist', color='red', \n",
    "                                       label='Spam messages', alpha=0.6)\n",
    "plt.legend()\n",
    "plt.xlabel(\"Message Length\")"
   ]
  },
  {
   "cell_type": "markdown",
   "id": "c52c5e78",
   "metadata": {
    "papermill": {
     "duration": 0.017036,
     "end_time": "2023-01-29T22:55:16.935749",
     "exception": false,
     "start_time": "2023-01-29T22:55:16.918713",
     "status": "completed"
    },
    "tags": []
   },
   "source": [
    "> Very interesting! Through just basic EDA we've been able to discover a trend that spam messages tend to have more characters."
   ]
  },
  {
   "cell_type": "code",
   "execution_count": 17,
   "id": "e49f1d46",
   "metadata": {
    "execution": {
     "iopub.execute_input": "2023-01-29T22:55:16.971810Z",
     "iopub.status.busy": "2023-01-29T22:55:16.971348Z",
     "iopub.status.idle": "2023-01-29T22:55:16.992652Z",
     "shell.execute_reply": "2023-01-29T22:55:16.991731Z"
    },
    "papermill": {
     "duration": 0.042172,
     "end_time": "2023-01-29T22:55:16.994961",
     "exception": false,
     "start_time": "2023-01-29T22:55:16.952789",
     "status": "completed"
    },
    "tags": []
   },
   "outputs": [
    {
     "data": {
      "text/html": [
       "<div>\n",
       "<style scoped>\n",
       "    .dataframe tbody tr th:only-of-type {\n",
       "        vertical-align: middle;\n",
       "    }\n",
       "\n",
       "    .dataframe tbody tr th {\n",
       "        vertical-align: top;\n",
       "    }\n",
       "\n",
       "    .dataframe thead th {\n",
       "        text-align: right;\n",
       "    }\n",
       "</style>\n",
       "<table border=\"1\" class=\"dataframe\">\n",
       "  <thead>\n",
       "    <tr style=\"text-align: right;\">\n",
       "      <th></th>\n",
       "      <th>label_num</th>\n",
       "      <th>message_len</th>\n",
       "    </tr>\n",
       "  </thead>\n",
       "  <tbody>\n",
       "    <tr>\n",
       "      <th>count</th>\n",
       "      <td>4825.0</td>\n",
       "      <td>4825.000000</td>\n",
       "    </tr>\n",
       "    <tr>\n",
       "      <th>mean</th>\n",
       "      <td>0.0</td>\n",
       "      <td>71.023627</td>\n",
       "    </tr>\n",
       "    <tr>\n",
       "      <th>std</th>\n",
       "      <td>0.0</td>\n",
       "      <td>58.016023</td>\n",
       "    </tr>\n",
       "    <tr>\n",
       "      <th>min</th>\n",
       "      <td>0.0</td>\n",
       "      <td>2.000000</td>\n",
       "    </tr>\n",
       "    <tr>\n",
       "      <th>25%</th>\n",
       "      <td>0.0</td>\n",
       "      <td>33.000000</td>\n",
       "    </tr>\n",
       "    <tr>\n",
       "      <th>50%</th>\n",
       "      <td>0.0</td>\n",
       "      <td>52.000000</td>\n",
       "    </tr>\n",
       "    <tr>\n",
       "      <th>75%</th>\n",
       "      <td>0.0</td>\n",
       "      <td>92.000000</td>\n",
       "    </tr>\n",
       "    <tr>\n",
       "      <th>max</th>\n",
       "      <td>0.0</td>\n",
       "      <td>910.000000</td>\n",
       "    </tr>\n",
       "  </tbody>\n",
       "</table>\n",
       "</div>"
      ],
      "text/plain": [
       "       label_num  message_len\n",
       "count     4825.0  4825.000000\n",
       "mean         0.0    71.023627\n",
       "std          0.0    58.016023\n",
       "min          0.0     2.000000\n",
       "25%          0.0    33.000000\n",
       "50%          0.0    52.000000\n",
       "75%          0.0    92.000000\n",
       "max          0.0   910.000000"
      ]
     },
     "execution_count": 17,
     "metadata": {},
     "output_type": "execute_result"
    }
   ],
   "source": [
    "sms[sms.label=='ham'].describe()"
   ]
  },
  {
   "cell_type": "code",
   "execution_count": 18,
   "id": "642b6a0f",
   "metadata": {
    "execution": {
     "iopub.execute_input": "2023-01-29T22:55:17.032074Z",
     "iopub.status.busy": "2023-01-29T22:55:17.030987Z",
     "iopub.status.idle": "2023-01-29T22:55:17.050166Z",
     "shell.execute_reply": "2023-01-29T22:55:17.049135Z"
    },
    "papermill": {
     "duration": 0.039843,
     "end_time": "2023-01-29T22:55:17.052402",
     "exception": false,
     "start_time": "2023-01-29T22:55:17.012559",
     "status": "completed"
    },
    "tags": []
   },
   "outputs": [
    {
     "data": {
      "text/html": [
       "<div>\n",
       "<style scoped>\n",
       "    .dataframe tbody tr th:only-of-type {\n",
       "        vertical-align: middle;\n",
       "    }\n",
       "\n",
       "    .dataframe tbody tr th {\n",
       "        vertical-align: top;\n",
       "    }\n",
       "\n",
       "    .dataframe thead th {\n",
       "        text-align: right;\n",
       "    }\n",
       "</style>\n",
       "<table border=\"1\" class=\"dataframe\">\n",
       "  <thead>\n",
       "    <tr style=\"text-align: right;\">\n",
       "      <th></th>\n",
       "      <th>label_num</th>\n",
       "      <th>message_len</th>\n",
       "    </tr>\n",
       "  </thead>\n",
       "  <tbody>\n",
       "    <tr>\n",
       "      <th>count</th>\n",
       "      <td>747.0</td>\n",
       "      <td>747.000000</td>\n",
       "    </tr>\n",
       "    <tr>\n",
       "      <th>mean</th>\n",
       "      <td>1.0</td>\n",
       "      <td>138.866131</td>\n",
       "    </tr>\n",
       "    <tr>\n",
       "      <th>std</th>\n",
       "      <td>0.0</td>\n",
       "      <td>29.183082</td>\n",
       "    </tr>\n",
       "    <tr>\n",
       "      <th>min</th>\n",
       "      <td>1.0</td>\n",
       "      <td>13.000000</td>\n",
       "    </tr>\n",
       "    <tr>\n",
       "      <th>25%</th>\n",
       "      <td>1.0</td>\n",
       "      <td>132.500000</td>\n",
       "    </tr>\n",
       "    <tr>\n",
       "      <th>50%</th>\n",
       "      <td>1.0</td>\n",
       "      <td>149.000000</td>\n",
       "    </tr>\n",
       "    <tr>\n",
       "      <th>75%</th>\n",
       "      <td>1.0</td>\n",
       "      <td>157.000000</td>\n",
       "    </tr>\n",
       "    <tr>\n",
       "      <th>max</th>\n",
       "      <td>1.0</td>\n",
       "      <td>224.000000</td>\n",
       "    </tr>\n",
       "  </tbody>\n",
       "</table>\n",
       "</div>"
      ],
      "text/plain": [
       "       label_num  message_len\n",
       "count      747.0   747.000000\n",
       "mean         1.0   138.866131\n",
       "std          0.0    29.183082\n",
       "min          1.0    13.000000\n",
       "25%          1.0   132.500000\n",
       "50%          1.0   149.000000\n",
       "75%          1.0   157.000000\n",
       "max          1.0   224.000000"
      ]
     },
     "execution_count": 18,
     "metadata": {},
     "output_type": "execute_result"
    }
   ],
   "source": [
    "sms[sms.label=='spam'].describe()"
   ]
  },
  {
   "cell_type": "markdown",
   "id": "842d9a7b",
   "metadata": {
    "papermill": {
     "duration": 0.017006,
     "end_time": "2023-01-29T22:55:17.086687",
     "exception": false,
     "start_time": "2023-01-29T22:55:17.069681",
     "status": "completed"
    },
    "tags": []
   },
   "source": [
    "> Woah! 910 characters, let's use masking to find this message:"
   ]
  },
  {
   "cell_type": "code",
   "execution_count": 19,
   "id": "349ff08f",
   "metadata": {
    "execution": {
     "iopub.execute_input": "2023-01-29T22:55:17.125275Z",
     "iopub.status.busy": "2023-01-29T22:55:17.123954Z",
     "iopub.status.idle": "2023-01-29T22:55:17.133579Z",
     "shell.execute_reply": "2023-01-29T22:55:17.132235Z"
    },
    "papermill": {
     "duration": 0.030944,
     "end_time": "2023-01-29T22:55:17.136293",
     "exception": false,
     "start_time": "2023-01-29T22:55:17.105349",
     "status": "completed"
    },
    "tags": []
   },
   "outputs": [
    {
     "data": {
      "text/plain": [
       "\"For me the love should start with attraction.i should feel that I need her every time around me.she should be the first thing which comes in my thoughts.I would start the day and end it with her.she should be there every time I dream.love will be then when my every breath has her name.my life should happen around her.my life will be named to her.I would cry for her.will give all my happiness and take all her sorrows.I will be ready to fight with anyone for her.I will be in love when I will be doing the craziest things for her.love will be when I don't have to proove anyone that my girl is the most beautiful lady on the whole planet.I will always be singing praises for her.love will be when I start up making chicken curry and end up makiing sambar.life will be the most beautiful then.will get every morning and thank god for the day because she is with me.I would like to say a lot..will tell later..\""
      ]
     },
     "execution_count": 19,
     "metadata": {},
     "output_type": "execute_result"
    }
   ],
   "source": [
    "sms[sms.message_len == 910].message.iloc[0]"
   ]
  },
  {
   "cell_type": "markdown",
   "id": "ef1b89b6",
   "metadata": {
    "papermill": {
     "duration": 0.017722,
     "end_time": "2023-01-29T22:55:17.172323",
     "exception": false,
     "start_time": "2023-01-29T22:55:17.154601",
     "status": "completed"
    },
    "tags": []
   },
   "source": [
    "# 📑 Text Pre-processing\n",
    "\n",
    "> Our main issue with our data is that it is all in text format (strings). The classification algorithms that we usally use need some sort of numerical feature vector in order to perform the classification task. There are actually many methods to convert a corpus to a vector format. The simplest is the `bag-of-words` approach, where each unique word in a text will be represented by one number.\n",
    "\n",
    "\n",
    "> In this section we'll convert the raw messages (sequence of characters) into vectors (sequences of numbers).\n",
    "\n",
    "> As a first step, let's write a function that will split a message into its individual words and return a list. We'll also remove very common words, ('the', 'a', etc..). To do this we will take advantage of the `NLTK` library. It's pretty much the standard library in Python for processing text and has a lot of useful features. We'll only use some of the basic ones here.\n",
    "\n",
    "> Let's create a function that will process the string in the message column, then we can just use **apply()** in pandas do process all the text in the DataFrame.\n",
    "\n",
    ">First removing punctuation. We can just take advantage of Python's built-in **string** library to get a quick list of all the possible punctuation:"
   ]
  },
  {
   "cell_type": "code",
   "execution_count": 20,
   "id": "32482852",
   "metadata": {
    "execution": {
     "iopub.execute_input": "2023-01-29T22:55:17.211389Z",
     "iopub.status.busy": "2023-01-29T22:55:17.210109Z",
     "iopub.status.idle": "2023-01-29T22:55:17.843010Z",
     "shell.execute_reply": "2023-01-29T22:55:17.841782Z"
    },
    "papermill": {
     "duration": 0.655601,
     "end_time": "2023-01-29T22:55:17.846168",
     "exception": false,
     "start_time": "2023-01-29T22:55:17.190567",
     "status": "completed"
    },
    "tags": []
   },
   "outputs": [],
   "source": [
    "import string\n",
    "from nltk.corpus import stopwords\n",
    "\n",
    "def text_process(mess):\n",
    "    \"\"\"\n",
    "    Takes in a string of text, then performs the following:\n",
    "    1. Remove all punctuation\n",
    "    2. Remove all stopwords\n",
    "    3. Returns a list of the cleaned text\n",
    "    \"\"\"\n",
    "    STOPWORDS = stopwords.words('english') + ['u', 'ü', 'ur', '4', '2', 'im', 'dont', 'doin', 'ure']\n",
    "    # Check characters to see if they are in punctuation\n",
    "    nopunc = [char for char in mess if char not in string.punctuation]\n",
    "\n",
    "    # Join the characters again to form the string.\n",
    "    nopunc = ''.join(nopunc)\n",
    "    \n",
    "    # Now just remove any stopwords\n",
    "    return ' '.join([word for word in nopunc.split() if word.lower() not in STOPWORDS])"
   ]
  },
  {
   "cell_type": "code",
   "execution_count": 21,
   "id": "0b4507c0",
   "metadata": {
    "execution": {
     "iopub.execute_input": "2023-01-29T22:55:17.884822Z",
     "iopub.status.busy": "2023-01-29T22:55:17.884130Z",
     "iopub.status.idle": "2023-01-29T22:55:17.894740Z",
     "shell.execute_reply": "2023-01-29T22:55:17.893878Z"
    },
    "papermill": {
     "duration": 0.032287,
     "end_time": "2023-01-29T22:55:17.896888",
     "exception": false,
     "start_time": "2023-01-29T22:55:17.864601",
     "status": "completed"
    },
    "tags": []
   },
   "outputs": [
    {
     "data": {
      "text/html": [
       "<div>\n",
       "<style scoped>\n",
       "    .dataframe tbody tr th:only-of-type {\n",
       "        vertical-align: middle;\n",
       "    }\n",
       "\n",
       "    .dataframe tbody tr th {\n",
       "        vertical-align: top;\n",
       "    }\n",
       "\n",
       "    .dataframe thead th {\n",
       "        text-align: right;\n",
       "    }\n",
       "</style>\n",
       "<table border=\"1\" class=\"dataframe\">\n",
       "  <thead>\n",
       "    <tr style=\"text-align: right;\">\n",
       "      <th></th>\n",
       "      <th>label</th>\n",
       "      <th>message</th>\n",
       "      <th>label_num</th>\n",
       "      <th>message_len</th>\n",
       "    </tr>\n",
       "  </thead>\n",
       "  <tbody>\n",
       "    <tr>\n",
       "      <th>0</th>\n",
       "      <td>ham</td>\n",
       "      <td>Go until jurong point, crazy.. Available only ...</td>\n",
       "      <td>0</td>\n",
       "      <td>111</td>\n",
       "    </tr>\n",
       "    <tr>\n",
       "      <th>1</th>\n",
       "      <td>ham</td>\n",
       "      <td>Ok lar... Joking wif u oni...</td>\n",
       "      <td>0</td>\n",
       "      <td>29</td>\n",
       "    </tr>\n",
       "    <tr>\n",
       "      <th>2</th>\n",
       "      <td>spam</td>\n",
       "      <td>Free entry in 2 a wkly comp to win FA Cup fina...</td>\n",
       "      <td>1</td>\n",
       "      <td>155</td>\n",
       "    </tr>\n",
       "    <tr>\n",
       "      <th>3</th>\n",
       "      <td>ham</td>\n",
       "      <td>U dun say so early hor... U c already then say...</td>\n",
       "      <td>0</td>\n",
       "      <td>49</td>\n",
       "    </tr>\n",
       "    <tr>\n",
       "      <th>4</th>\n",
       "      <td>ham</td>\n",
       "      <td>Nah I don't think he goes to usf, he lives aro...</td>\n",
       "      <td>0</td>\n",
       "      <td>61</td>\n",
       "    </tr>\n",
       "  </tbody>\n",
       "</table>\n",
       "</div>"
      ],
      "text/plain": [
       "  label                                            message  label_num  \\\n",
       "0   ham  Go until jurong point, crazy.. Available only ...          0   \n",
       "1   ham                      Ok lar... Joking wif u oni...          0   \n",
       "2  spam  Free entry in 2 a wkly comp to win FA Cup fina...          1   \n",
       "3   ham  U dun say so early hor... U c already then say...          0   \n",
       "4   ham  Nah I don't think he goes to usf, he lives aro...          0   \n",
       "\n",
       "   message_len  \n",
       "0          111  \n",
       "1           29  \n",
       "2          155  \n",
       "3           49  \n",
       "4           61  "
      ]
     },
     "execution_count": 21,
     "metadata": {},
     "output_type": "execute_result"
    }
   ],
   "source": [
    "sms.head()"
   ]
  },
  {
   "cell_type": "markdown",
   "id": "714d38dc",
   "metadata": {
    "papermill": {
     "duration": 0.017163,
     "end_time": "2023-01-29T22:55:17.931651",
     "exception": false,
     "start_time": "2023-01-29T22:55:17.914488",
     "status": "completed"
    },
    "tags": []
   },
   "source": [
    "> Now let's \"tokenize\" these messages. Tokenization is just the term used to describe the process of converting the normal text strings in to a list of tokens (words that we actually want)."
   ]
  },
  {
   "cell_type": "code",
   "execution_count": 22,
   "id": "7d04dff5",
   "metadata": {
    "execution": {
     "iopub.execute_input": "2023-01-29T22:55:17.969187Z",
     "iopub.status.busy": "2023-01-29T22:55:17.968482Z",
     "iopub.status.idle": "2023-01-29T22:55:19.048103Z",
     "shell.execute_reply": "2023-01-29T22:55:19.046792Z"
    },
    "papermill": {
     "duration": 1.101481,
     "end_time": "2023-01-29T22:55:19.050794",
     "exception": false,
     "start_time": "2023-01-29T22:55:17.949313",
     "status": "completed"
    },
    "tags": []
   },
   "outputs": [
    {
     "data": {
      "text/html": [
       "<div>\n",
       "<style scoped>\n",
       "    .dataframe tbody tr th:only-of-type {\n",
       "        vertical-align: middle;\n",
       "    }\n",
       "\n",
       "    .dataframe tbody tr th {\n",
       "        vertical-align: top;\n",
       "    }\n",
       "\n",
       "    .dataframe thead th {\n",
       "        text-align: right;\n",
       "    }\n",
       "</style>\n",
       "<table border=\"1\" class=\"dataframe\">\n",
       "  <thead>\n",
       "    <tr style=\"text-align: right;\">\n",
       "      <th></th>\n",
       "      <th>label</th>\n",
       "      <th>message</th>\n",
       "      <th>label_num</th>\n",
       "      <th>message_len</th>\n",
       "      <th>clean_msg</th>\n",
       "    </tr>\n",
       "  </thead>\n",
       "  <tbody>\n",
       "    <tr>\n",
       "      <th>0</th>\n",
       "      <td>ham</td>\n",
       "      <td>Go until jurong point, crazy.. Available only ...</td>\n",
       "      <td>0</td>\n",
       "      <td>111</td>\n",
       "      <td>Go jurong point crazy Available bugis n great ...</td>\n",
       "    </tr>\n",
       "    <tr>\n",
       "      <th>1</th>\n",
       "      <td>ham</td>\n",
       "      <td>Ok lar... Joking wif u oni...</td>\n",
       "      <td>0</td>\n",
       "      <td>29</td>\n",
       "      <td>Ok lar Joking wif oni</td>\n",
       "    </tr>\n",
       "    <tr>\n",
       "      <th>2</th>\n",
       "      <td>spam</td>\n",
       "      <td>Free entry in 2 a wkly comp to win FA Cup fina...</td>\n",
       "      <td>1</td>\n",
       "      <td>155</td>\n",
       "      <td>Free entry wkly comp win FA Cup final tkts 21s...</td>\n",
       "    </tr>\n",
       "    <tr>\n",
       "      <th>3</th>\n",
       "      <td>ham</td>\n",
       "      <td>U dun say so early hor... U c already then say...</td>\n",
       "      <td>0</td>\n",
       "      <td>49</td>\n",
       "      <td>dun say early hor c already say</td>\n",
       "    </tr>\n",
       "    <tr>\n",
       "      <th>4</th>\n",
       "      <td>ham</td>\n",
       "      <td>Nah I don't think he goes to usf, he lives aro...</td>\n",
       "      <td>0</td>\n",
       "      <td>61</td>\n",
       "      <td>Nah think goes usf lives around though</td>\n",
       "    </tr>\n",
       "  </tbody>\n",
       "</table>\n",
       "</div>"
      ],
      "text/plain": [
       "  label                                            message  label_num  \\\n",
       "0   ham  Go until jurong point, crazy.. Available only ...          0   \n",
       "1   ham                      Ok lar... Joking wif u oni...          0   \n",
       "2  spam  Free entry in 2 a wkly comp to win FA Cup fina...          1   \n",
       "3   ham  U dun say so early hor... U c already then say...          0   \n",
       "4   ham  Nah I don't think he goes to usf, he lives aro...          0   \n",
       "\n",
       "   message_len                                          clean_msg  \n",
       "0          111  Go jurong point crazy Available bugis n great ...  \n",
       "1           29                              Ok lar Joking wif oni  \n",
       "2          155  Free entry wkly comp win FA Cup final tkts 21s...  \n",
       "3           49                    dun say early hor c already say  \n",
       "4           61             Nah think goes usf lives around though  "
      ]
     },
     "execution_count": 22,
     "metadata": {},
     "output_type": "execute_result"
    }
   ],
   "source": [
    "sms['clean_msg'] = sms.message.apply(text_process)\n",
    "\n",
    "sms.head()"
   ]
  },
  {
   "cell_type": "code",
   "execution_count": 23,
   "id": "4d31bfba",
   "metadata": {
    "execution": {
     "iopub.execute_input": "2023-01-29T22:55:19.088379Z",
     "iopub.status.busy": "2023-01-29T22:55:19.087984Z",
     "iopub.status.idle": "2023-01-29T22:55:19.096999Z",
     "shell.execute_reply": "2023-01-29T22:55:19.095968Z"
    },
    "papermill": {
     "duration": 0.030375,
     "end_time": "2023-01-29T22:55:19.099227",
     "exception": false,
     "start_time": "2023-01-29T22:55:19.068852",
     "status": "completed"
    },
    "tags": []
   },
   "outputs": [
    {
     "data": {
      "text/plain": [
       "list"
      ]
     },
     "execution_count": 23,
     "metadata": {},
     "output_type": "execute_result"
    }
   ],
   "source": [
    "type(stopwords.words('english'))"
   ]
  },
  {
   "cell_type": "code",
   "execution_count": 24,
   "id": "9908bd0a",
   "metadata": {
    "execution": {
     "iopub.execute_input": "2023-01-29T22:55:19.137263Z",
     "iopub.status.busy": "2023-01-29T22:55:19.136657Z",
     "iopub.status.idle": "2023-01-29T22:55:19.176557Z",
     "shell.execute_reply": "2023-01-29T22:55:19.175245Z"
    },
    "papermill": {
     "duration": 0.062156,
     "end_time": "2023-01-29T22:55:19.179223",
     "exception": false,
     "start_time": "2023-01-29T22:55:19.117067",
     "status": "completed"
    },
    "tags": []
   },
   "outputs": [
    {
     "name": "stdout",
     "output_type": "stream",
     "text": [
      "[('get', 303), ('ltgt', 276), ('ok', 272), ('go', 247), ('ill', 236), ('know', 232), ('got', 231), ('like', 229), ('call', 229), ('come', 224), ('good', 222), ('time', 189), ('day', 187), ('love', 185), ('going', 167), ('want', 163), ('one', 162), ('home', 160), ('lor', 160), ('need', 156), ('sorry', 153), ('still', 146), ('see', 137), ('n', 134), ('later', 134), ('da', 131), ('r', 131), ('back', 129), ('think', 128), ('well', 126), ('today', 125), ('send', 123), ('tell', 121), ('cant', 118), ('ì', 117), ('hi', 117), ('take', 112), ('much', 112), ('oh', 111), ('night', 107), ('hey', 106), ('happy', 105), ('great', 100), ('way', 100), ('hope', 99), ('pls', 98), ('work', 96), ('wat', 95), ('thats', 94), ('dear', 94)]\n"
     ]
    }
   ],
   "source": [
    "from collections import Counter\n",
    "\n",
    "words = sms[sms.label=='ham'].clean_msg.apply(lambda x: [word.lower() for word in x.split()])\n",
    "ham_words = Counter()\n",
    "\n",
    "for msg in words:\n",
    "    ham_words.update(msg)\n",
    "    \n",
    "print(ham_words.most_common(50))"
   ]
  },
  {
   "cell_type": "code",
   "execution_count": 25,
   "id": "d9221c8f",
   "metadata": {
    "execution": {
     "iopub.execute_input": "2023-01-29T22:55:19.218113Z",
     "iopub.status.busy": "2023-01-29T22:55:19.217682Z",
     "iopub.status.idle": "2023-01-29T22:55:19.236578Z",
     "shell.execute_reply": "2023-01-29T22:55:19.234737Z"
    },
    "papermill": {
     "duration": 0.042819,
     "end_time": "2023-01-29T22:55:19.240130",
     "exception": false,
     "start_time": "2023-01-29T22:55:19.197311",
     "status": "completed"
    },
    "tags": []
   },
   "outputs": [
    {
     "name": "stdout",
     "output_type": "stream",
     "text": [
      "[('call', 347), ('free', 216), ('txt', 150), ('mobile', 123), ('text', 120), ('claim', 113), ('stop', 113), ('reply', 101), ('prize', 92), ('get', 83), ('new', 69), ('send', 67), ('nokia', 65), ('urgent', 63), ('cash', 62), ('win', 60), ('contact', 56), ('service', 55), ('please', 52), ('guaranteed', 50), ('customer', 49), ('16', 49), ('week', 49), ('tone', 48), ('per', 46), ('phone', 45), ('18', 43), ('chat', 42), ('awarded', 38), ('draw', 38), ('latest', 36), ('å£1000', 35), ('line', 35), ('150ppm', 34), ('mins', 34), ('receive', 33), ('camera', 33), ('1', 33), ('every', 33), ('message', 32), ('holiday', 32), ('landline', 32), ('shows', 31), ('å£2000', 31), ('go', 31), ('box', 30), ('number', 30), ('apply', 29), ('code', 29), ('live', 29)]\n"
     ]
    }
   ],
   "source": [
    "words = sms[sms.label=='spam'].clean_msg.apply(lambda x: [word.lower() for word in x.split()])\n",
    "spam_words = Counter()\n",
    "\n",
    "for msg in words:\n",
    "    spam_words.update(msg)\n",
    "    \n",
    "print(spam_words.most_common(50))"
   ]
  },
  {
   "cell_type": "markdown",
   "id": "7086e444",
   "metadata": {
    "papermill": {
     "duration": 0.017844,
     "end_time": "2023-01-29T22:55:19.277241",
     "exception": false,
     "start_time": "2023-01-29T22:55:19.259397",
     "status": "completed"
    },
    "tags": []
   },
   "source": [
    "# 🧮 Vectorization\n",
    "\n",
    "> Currently, we have the messages as lists of tokens (also known as [lemmas](http://nlp.stanford.edu/IR-book/html/htmledition/stemming-and-lemmatization-1.html)) and now we need to convert each of those messages into a vector the SciKit Learn's algorithm models can work with.\n",
    "\n",
    "> Now we'll convert each message, represented as a list of tokens (lemmas) above, into a vector that machine learning models can understand.\n",
    "\n",
    "> We'll do that in three steps using the bag-of-words model:\n",
    "\n",
    "> 1. Count how many times does a word occur in each message (Known as term frequency)\n",
    "> 2. Weigh the counts, so that frequent tokens get lower weight (inverse document frequency)\n",
    "> 3. Normalize the vectors to unit length, to abstract from the original text length (L2 norm)\n",
    "\n",
    "> Let's begin the first step:\n",
    "\n",
    "> Each vector will have as many dimensions as there are unique words in the SMS corpus.  We will first use SciKit Learn's **CountVectorizer**. This model will convert a collection of text documents to a matrix of token counts.\n",
    "\n",
    "> We can imagine this as a 2-Dimensional matrix. Where the 1-dimension is the entire vocabulary (1 row per word) and the other dimension are the actual documents, in this case a column per text message. \n",
    "\n",
    "> For example:\n",
    "\n",
    "<table border = “1“>\n",
    "<tr>\n",
    "<th></th> <th>Message 1</th> <th>Message 2</th> <th>...</th> <th>Message N</th> \n",
    "</tr>\n",
    "<tr>\n",
    "<td><b>Word 1 Count</b></td><td>0</td><td>1</td><td>...</td><td>0</td>\n",
    "</tr>\n",
    "<tr>\n",
    "<td><b>Word 2 Count</b></td><td>0</td><td>0</td><td>...</td><td>0</td>\n",
    "</tr>\n",
    "<tr>\n",
    "<td><b>...</b></td> <td>1</td><td>2</td><td>...</td><td>0</td>\n",
    "</tr>\n",
    "<tr>\n",
    "<td><b>Word N Count</b></td> <td>0</td><td>1</td><td>...</td><td>1</td>\n",
    "</tr>\n",
    "</table>\n",
    "\n",
    "\n",
    "> Since there are so many messages, we can expect a lot of zero counts for the presence of that word in that document. Because of this, SciKit Learn will output a [Sparse Matrix](https://en.wikipedia.org/wiki/Sparse_matrix)."
   ]
  },
  {
   "cell_type": "code",
   "execution_count": 26,
   "id": "50e2d566",
   "metadata": {
    "execution": {
     "iopub.execute_input": "2023-01-29T22:55:19.316711Z",
     "iopub.status.busy": "2023-01-29T22:55:19.315628Z",
     "iopub.status.idle": "2023-01-29T22:55:19.326105Z",
     "shell.execute_reply": "2023-01-29T22:55:19.324545Z"
    },
    "papermill": {
     "duration": 0.033279,
     "end_time": "2023-01-29T22:55:19.328849",
     "exception": false,
     "start_time": "2023-01-29T22:55:19.295570",
     "status": "completed"
    },
    "tags": []
   },
   "outputs": [
    {
     "name": "stdout",
     "output_type": "stream",
     "text": [
      "(5572,)\n",
      "(5572,)\n",
      "(4179,)\n",
      "(1393,)\n",
      "(4179,)\n",
      "(1393,)\n"
     ]
    }
   ],
   "source": [
    "# split X and y into training and testing sets \n",
    "from sklearn.model_selection import train_test_split\n",
    "\n",
    "# how to define X and y (from the SMS data) for use with COUNTVECTORIZER\n",
    "X = sms.clean_msg\n",
    "y = sms.label_num\n",
    "print(X.shape)\n",
    "print(y.shape)\n",
    "\n",
    "X_train, X_test, y_train, y_test = train_test_split(X, y, random_state=1)\n",
    "\n",
    "print(X_train.shape)\n",
    "print(X_test.shape)\n",
    "print(y_train.shape)\n",
    "print(y_test.shape)"
   ]
  },
  {
   "cell_type": "markdown",
   "id": "333271a7",
   "metadata": {
    "papermill": {
     "duration": 0.018155,
     "end_time": "2023-01-29T22:55:19.366244",
     "exception": false,
     "start_time": "2023-01-29T22:55:19.348089",
     "status": "completed"
    },
    "tags": []
   },
   "source": [
    "> There are a lot of arguments and parameters that can be passed to the CountVectorizer. In this case we will just specify the **analyzer** to be our own previously defined function:"
   ]
  },
  {
   "cell_type": "code",
   "execution_count": 27,
   "id": "e941fd4e",
   "metadata": {
    "execution": {
     "iopub.execute_input": "2023-01-29T22:55:19.405995Z",
     "iopub.status.busy": "2023-01-29T22:55:19.405288Z",
     "iopub.status.idle": "2023-01-29T22:55:19.588445Z",
     "shell.execute_reply": "2023-01-29T22:55:19.586816Z"
    },
    "papermill": {
     "duration": 0.206017,
     "end_time": "2023-01-29T22:55:19.590922",
     "exception": false,
     "start_time": "2023-01-29T22:55:19.384905",
     "status": "completed"
    },
    "tags": []
   },
   "outputs": [
    {
     "name": "stdout",
     "output_type": "stream",
     "text": [
      "<class 'scipy.sparse.csr.csr_matrix'> (4179, 7996)\n",
      "<class 'scipy.sparse.csr.csr_matrix'> (1393, 7996)\n"
     ]
    }
   ],
   "source": [
    "from sklearn.feature_extraction.text import CountVectorizer\n",
    "\n",
    "# instantiate the vectorizer\n",
    "vect = CountVectorizer()\n",
    "vect.fit(X_train)\n",
    "\n",
    "# learn training data vocabulary, then use it to create a document-term matrix\n",
    "X_train_dtm = vect.transform(X_train)\n",
    "\n",
    "# equivalently: combine fit and transform into a single step\n",
    "X_train_dtm = vect.fit_transform(X_train)\n",
    "\n",
    "\n",
    "# examine the document-term matrix\n",
    "print(type(X_train_dtm), X_train_dtm.shape)\n",
    "\n",
    "# transform testing data (using fitted vocabulary) into a document-term matrix\n",
    "X_test_dtm = vect.transform(X_test)\n",
    "print(type(X_test_dtm), X_test_dtm.shape)"
   ]
  },
  {
   "cell_type": "code",
   "execution_count": 28,
   "id": "d00d5b74",
   "metadata": {
    "execution": {
     "iopub.execute_input": "2023-01-29T22:55:19.629737Z",
     "iopub.status.busy": "2023-01-29T22:55:19.629294Z",
     "iopub.status.idle": "2023-01-29T22:55:19.644008Z",
     "shell.execute_reply": "2023-01-29T22:55:19.642780Z"
    },
    "papermill": {
     "duration": 0.037199,
     "end_time": "2023-01-29T22:55:19.646448",
     "exception": false,
     "start_time": "2023-01-29T22:55:19.609249",
     "status": "completed"
    },
    "tags": []
   },
   "outputs": [
    {
     "data": {
      "text/plain": [
       "<4179x7996 sparse matrix of type '<class 'numpy.float64'>'\n",
       "\twith 34796 stored elements in Compressed Sparse Row format>"
      ]
     },
     "execution_count": 28,
     "metadata": {},
     "output_type": "execute_result"
    }
   ],
   "source": [
    "from sklearn.feature_extraction.text import TfidfTransformer\n",
    "\n",
    "tfidf_transformer = TfidfTransformer()\n",
    "tfidf_transformer.fit(X_train_dtm)\n",
    "tfidf_transformer.transform(X_train_dtm)"
   ]
  },
  {
   "cell_type": "markdown",
   "id": "09114954",
   "metadata": {
    "papermill": {
     "duration": 0.017968,
     "end_time": "2023-01-29T22:55:19.682846",
     "exception": false,
     "start_time": "2023-01-29T22:55:19.664878",
     "status": "completed"
    },
    "tags": []
   },
   "source": [
    "# 🤖 Building and evaluating a model\n",
    "\n",
    "> We will use [multinomial Naive Bayes](http://scikit-learn.org/stable/modules/generated/sklearn.naive_bayes.MultinomialNB.html):\n",
    "\n",
    "> The multinomial Naive Bayes classifier is suitable for classification with **discrete features** (e.g., word counts for text classification). The multinomial distribution normally requires integer feature counts. However, in practice, fractional counts such as tf-idf may also work."
   ]
  },
  {
   "cell_type": "code",
   "execution_count": 29,
   "id": "7308e6ab",
   "metadata": {
    "execution": {
     "iopub.execute_input": "2023-01-29T22:55:19.722090Z",
     "iopub.status.busy": "2023-01-29T22:55:19.721693Z",
     "iopub.status.idle": "2023-01-29T22:55:19.729219Z",
     "shell.execute_reply": "2023-01-29T22:55:19.728281Z"
    },
    "papermill": {
     "duration": 0.030038,
     "end_time": "2023-01-29T22:55:19.731634",
     "exception": false,
     "start_time": "2023-01-29T22:55:19.701596",
     "status": "completed"
    },
    "tags": []
   },
   "outputs": [],
   "source": [
    "# import and instantiate a Multinomial Naive Bayes model\n",
    "from sklearn.naive_bayes import MultinomialNB\n",
    "nb = MultinomialNB()"
   ]
  },
  {
   "cell_type": "code",
   "execution_count": 30,
   "id": "b9d7cb9e",
   "metadata": {
    "execution": {
     "iopub.execute_input": "2023-01-29T22:55:19.770716Z",
     "iopub.status.busy": "2023-01-29T22:55:19.770256Z",
     "iopub.status.idle": "2023-01-29T22:55:19.785837Z",
     "shell.execute_reply": "2023-01-29T22:55:19.784475Z"
    },
    "papermill": {
     "duration": 0.037979,
     "end_time": "2023-01-29T22:55:19.788662",
     "exception": false,
     "start_time": "2023-01-29T22:55:19.750683",
     "status": "completed"
    },
    "tags": []
   },
   "outputs": [
    {
     "name": "stdout",
     "output_type": "stream",
     "text": [
      "CPU times: user 3.83 ms, sys: 0 ns, total: 3.83 ms\n",
      "Wall time: 5.65 ms\n"
     ]
    },
    {
     "data": {
      "text/plain": [
       "MultinomialNB()"
      ]
     },
     "execution_count": 30,
     "metadata": {},
     "output_type": "execute_result"
    }
   ],
   "source": [
    "# train the model using X_train_dtm (timing it with an IPython \"magic command\")\n",
    "%time nb.fit(X_train_dtm, y_train)"
   ]
  },
  {
   "cell_type": "code",
   "execution_count": 31,
   "id": "e773a0bc",
   "metadata": {
    "execution": {
     "iopub.execute_input": "2023-01-29T22:55:19.828904Z",
     "iopub.status.busy": "2023-01-29T22:55:19.827802Z",
     "iopub.status.idle": "2023-01-29T22:55:19.841073Z",
     "shell.execute_reply": "2023-01-29T22:55:19.839279Z"
    },
    "papermill": {
     "duration": 0.035881,
     "end_time": "2023-01-29T22:55:19.843704",
     "exception": false,
     "start_time": "2023-01-29T22:55:19.807823",
     "status": "completed"
    },
    "tags": []
   },
   "outputs": [
    {
     "name": "stdout",
     "output_type": "stream",
     "text": [
      "=======Accuracy Score===========\n",
      "0.9827709978463748\n",
      "=======Confision Matrix===========\n"
     ]
    },
    {
     "data": {
      "text/plain": [
       "array([[1205,    8],\n",
       "       [  16,  164]])"
      ]
     },
     "execution_count": 31,
     "metadata": {},
     "output_type": "execute_result"
    }
   ],
   "source": [
    "from sklearn import metrics\n",
    "\n",
    "# make class predictions for X_test_dtm\n",
    "y_pred_class = nb.predict(X_test_dtm)\n",
    "\n",
    "# calculate accuracy of class predictions\n",
    "print(\"=======Accuracy Score===========\")\n",
    "print(metrics.accuracy_score(y_test, y_pred_class))\n",
    "\n",
    "# print the confusion matrix\n",
    "print(\"=======Confision Matrix===========\")\n",
    "metrics.confusion_matrix(y_test, y_pred_class)"
   ]
  },
  {
   "cell_type": "code",
   "execution_count": 32,
   "id": "020ffd99",
   "metadata": {
    "execution": {
     "iopub.execute_input": "2023-01-29T22:55:19.883010Z",
     "iopub.status.busy": "2023-01-29T22:55:19.882587Z",
     "iopub.status.idle": "2023-01-29T22:55:19.891725Z",
     "shell.execute_reply": "2023-01-29T22:55:19.890356Z"
    },
    "papermill": {
     "duration": 0.031678,
     "end_time": "2023-01-29T22:55:19.894187",
     "exception": false,
     "start_time": "2023-01-29T22:55:19.862509",
     "status": "completed"
    },
    "tags": []
   },
   "outputs": [
    {
     "data": {
      "text/plain": [
       "2418    Madamregret disturbancemight receive reference...\n",
       "4598                                laid airtel line rest\n",
       "386                                   Customer place call\n",
       "1289    HeyGreat dealFarm tour 9am 5pm 95pax 50 deposi...\n",
       "5094    Hi ShanilRakhesh herethanksi exchanged uncut d...\n",
       "494                                      free nowcan call\n",
       "759     Call youcarlos isare phones vibrate acting mig...\n",
       "3140                                  Customer place call\n",
       "Name: clean_msg, dtype: object"
      ]
     },
     "execution_count": 32,
     "metadata": {},
     "output_type": "execute_result"
    }
   ],
   "source": [
    "# print message text for false positives (ham incorrectly classifier)\n",
    "# X_test[(y_pred_class==1) & (y_test==0)]\n",
    "X_test[y_pred_class > y_test]"
   ]
  },
  {
   "cell_type": "code",
   "execution_count": 33,
   "id": "31dce2ae",
   "metadata": {
    "execution": {
     "iopub.execute_input": "2023-01-29T22:55:19.934296Z",
     "iopub.status.busy": "2023-01-29T22:55:19.933874Z",
     "iopub.status.idle": "2023-01-29T22:55:19.942386Z",
     "shell.execute_reply": "2023-01-29T22:55:19.941525Z"
    },
    "papermill": {
     "duration": 0.03116,
     "end_time": "2023-01-29T22:55:19.944496",
     "exception": false,
     "start_time": "2023-01-29T22:55:19.913336",
     "status": "completed"
    },
    "tags": []
   },
   "outputs": [
    {
     "data": {
      "text/plain": [
       "4674    Hi babe Chloe r smashed saturday night great w...\n",
       "3528    Xmas New Years Eve tickets sale club day 10am ...\n",
       "3417    LIFE never much fun great came made truly spec...\n",
       "2773    come takes little time child afraid dark becom...\n",
       "1960    Guess Somebody know secretly fancies Wanna fin...\n",
       "5       FreeMsg Hey darling 3 weeks word back Id like ...\n",
       "2078                         85233 FREERingtoneReply REAL\n",
       "1457    CLAIRE havin borin time alone wanna cum 2nite ...\n",
       "190     unique enough Find 30th August wwwareyouunique...\n",
       "2429    Guess IThis first time created web page WWWASJ...\n",
       "3057    unsubscribed services Get tons sexy babes hunk...\n",
       "1021    Guess Somebody know secretly fancies Wanna fin...\n",
       "4067    TBSPERSOLVO chasing us since Sept forå£38 defi...\n",
       "3358         Sorry missed call lets talk time 07090201529\n",
       "2821    ROMCAPspam Everyone around responding well pre...\n",
       "2247    Back work 2morro half term C 2nite sexy passio...\n",
       "Name: clean_msg, dtype: object"
      ]
     },
     "execution_count": 33,
     "metadata": {},
     "output_type": "execute_result"
    }
   ],
   "source": [
    "# print message text for false negatives (spam incorrectly classifier)\n",
    "X_test[y_pred_class < y_test]"
   ]
  },
  {
   "cell_type": "code",
   "execution_count": 34,
   "id": "0cf7cd71",
   "metadata": {
    "execution": {
     "iopub.execute_input": "2023-01-29T22:55:19.985901Z",
     "iopub.status.busy": "2023-01-29T22:55:19.985444Z",
     "iopub.status.idle": "2023-01-29T22:55:19.992639Z",
     "shell.execute_reply": "2023-01-29T22:55:19.991262Z"
    },
    "papermill": {
     "duration": 0.031441,
     "end_time": "2023-01-29T22:55:19.995299",
     "exception": false,
     "start_time": "2023-01-29T22:55:19.963858",
     "status": "completed"
    },
    "tags": []
   },
   "outputs": [
    {
     "data": {
      "text/plain": [
       "'Hi probably much fun get message thought id txt cos bored james farting night'"
      ]
     },
     "execution_count": 34,
     "metadata": {},
     "output_type": "execute_result"
    }
   ],
   "source": [
    "# example of false negative \n",
    "X_test[4949]"
   ]
  },
  {
   "cell_type": "code",
   "execution_count": 35,
   "id": "6ad8c708",
   "metadata": {
    "execution": {
     "iopub.execute_input": "2023-01-29T22:55:20.036020Z",
     "iopub.status.busy": "2023-01-29T22:55:20.035620Z",
     "iopub.status.idle": "2023-01-29T22:55:20.045093Z",
     "shell.execute_reply": "2023-01-29T22:55:20.044036Z"
    },
    "papermill": {
     "duration": 0.032754,
     "end_time": "2023-01-29T22:55:20.047731",
     "exception": false,
     "start_time": "2023-01-29T22:55:20.014977",
     "status": "completed"
    },
    "tags": []
   },
   "outputs": [
    {
     "data": {
      "text/plain": [
       "array([2.11903975e-02, 3.97831612e-04, 1.06470895e-03, ...,\n",
       "       1.31939653e-02, 9.99821127e-05, 6.04083365e-06])"
      ]
     },
     "execution_count": 35,
     "metadata": {},
     "output_type": "execute_result"
    }
   ],
   "source": [
    "# calculate predicted probabilities for X_test_dtm (poorly calibrated)\n",
    "y_pred_prob = nb.predict_proba(X_test_dtm)[:, 1]\n",
    "y_pred_prob"
   ]
  },
  {
   "cell_type": "code",
   "execution_count": 36,
   "id": "0d067d3c",
   "metadata": {
    "execution": {
     "iopub.execute_input": "2023-01-29T22:55:20.089148Z",
     "iopub.status.busy": "2023-01-29T22:55:20.088766Z",
     "iopub.status.idle": "2023-01-29T22:55:20.097476Z",
     "shell.execute_reply": "2023-01-29T22:55:20.096355Z"
    },
    "papermill": {
     "duration": 0.031816,
     "end_time": "2023-01-29T22:55:20.099686",
     "exception": false,
     "start_time": "2023-01-29T22:55:20.067870",
     "status": "completed"
    },
    "tags": []
   },
   "outputs": [
    {
     "data": {
      "text/plain": [
       "0.9774342768159751"
      ]
     },
     "execution_count": 36,
     "metadata": {},
     "output_type": "execute_result"
    }
   ],
   "source": [
    "# calculate AUC\n",
    "metrics.roc_auc_score(y_test, y_pred_prob)"
   ]
  },
  {
   "cell_type": "code",
   "execution_count": 37,
   "id": "fd825b98",
   "metadata": {
    "execution": {
     "iopub.execute_input": "2023-01-29T22:55:20.141653Z",
     "iopub.status.busy": "2023-01-29T22:55:20.141224Z",
     "iopub.status.idle": "2023-01-29T22:55:20.241106Z",
     "shell.execute_reply": "2023-01-29T22:55:20.239627Z"
    },
    "papermill": {
     "duration": 0.124295,
     "end_time": "2023-01-29T22:55:20.244104",
     "exception": false,
     "start_time": "2023-01-29T22:55:20.119809",
     "status": "completed"
    },
    "tags": []
   },
   "outputs": [
    {
     "name": "stdout",
     "output_type": "stream",
     "text": [
      "=======Accuracy Score===========\n",
      "0.9669777458722182\n",
      "=======Confision Matrix===========\n"
     ]
    },
    {
     "data": {
      "text/plain": [
       "array([[1213,    0],\n",
       "       [  46,  134]])"
      ]
     },
     "execution_count": 37,
     "metadata": {},
     "output_type": "execute_result"
    }
   ],
   "source": [
    "from sklearn.feature_extraction.text import TfidfTransformer\n",
    "from sklearn.pipeline import Pipeline\n",
    "\n",
    "pipe = Pipeline([('bow', CountVectorizer()), \n",
    "                 ('tfid', TfidfTransformer()),  \n",
    "                 ('model', MultinomialNB())])\n",
    "\n",
    "pipe.fit(X_train, y_train)\n",
    "y_pred = pipe.predict(X_test)\n",
    "\n",
    "# calculate accuracy of class predictions\n",
    "print(\"=======Accuracy Score===========\")\n",
    "print(metrics.accuracy_score(y_test, y_pred))\n",
    "\n",
    "# print the confusion matrix\n",
    "print(\"=======Confision Matrix===========\")\n",
    "metrics.confusion_matrix(y_test, y_pred)"
   ]
  },
  {
   "cell_type": "markdown",
   "id": "c4aabc17",
   "metadata": {
    "papermill": {
     "duration": 0.019152,
     "end_time": "2023-01-29T22:55:20.283255",
     "exception": false,
     "start_time": "2023-01-29T22:55:20.264103",
     "status": "completed"
    },
    "tags": []
   },
   "source": [
    "# 📊 Comparing models\n",
    "\n",
    "We will compare multinomial Naive Bayes with [logistic regression](http://scikit-learn.org/stable/modules/linear_model.html#logistic-regression):\n",
    "\n",
    "> Logistic regression, despite its name, is a **linear model for classification** rather than regression. Logistic regression is also known in the literature as logit regression, maximum-entropy classification (MaxEnt) or the log-linear classifier. In this model, the probabilities describing the possible outcomes of a single trial are modeled using a logistic function."
   ]
  },
  {
   "cell_type": "code",
   "execution_count": 38,
   "id": "82eca2d0",
   "metadata": {
    "execution": {
     "iopub.execute_input": "2023-01-29T22:55:20.324412Z",
     "iopub.status.busy": "2023-01-29T22:55:20.323759Z",
     "iopub.status.idle": "2023-01-29T22:55:20.352859Z",
     "shell.execute_reply": "2023-01-29T22:55:20.351618Z"
    },
    "papermill": {
     "duration": 0.052551,
     "end_time": "2023-01-29T22:55:20.355266",
     "exception": false,
     "start_time": "2023-01-29T22:55:20.302715",
     "status": "completed"
    },
    "tags": []
   },
   "outputs": [
    {
     "name": "stdout",
     "output_type": "stream",
     "text": [
      "CPU times: user 17.8 ms, sys: 0 ns, total: 17.8 ms\n",
      "Wall time: 18.6 ms\n"
     ]
    },
    {
     "data": {
      "text/plain": [
       "LogisticRegression(solver='liblinear')"
      ]
     },
     "execution_count": 38,
     "metadata": {},
     "output_type": "execute_result"
    }
   ],
   "source": [
    "# import an instantiate a logistic regression model\n",
    "from sklearn.linear_model import LogisticRegression\n",
    "\n",
    "logreg = LogisticRegression(solver='liblinear')\n",
    "\n",
    "# train the model using X_train_dtm\n",
    "%time logreg.fit(X_train_dtm, y_train)"
   ]
  },
  {
   "cell_type": "code",
   "execution_count": 39,
   "id": "a3083008",
   "metadata": {
    "execution": {
     "iopub.execute_input": "2023-01-29T22:55:20.396659Z",
     "iopub.status.busy": "2023-01-29T22:55:20.395566Z",
     "iopub.status.idle": "2023-01-29T22:55:20.403827Z",
     "shell.execute_reply": "2023-01-29T22:55:20.402849Z"
    },
    "papermill": {
     "duration": 0.031245,
     "end_time": "2023-01-29T22:55:20.406037",
     "exception": false,
     "start_time": "2023-01-29T22:55:20.374792",
     "status": "completed"
    },
    "tags": []
   },
   "outputs": [
    {
     "data": {
      "text/plain": [
       "array([0.01694418, 0.0152182 , 0.08261755, ..., 0.02198942, 0.00531726,\n",
       "       0.00679188])"
      ]
     },
     "execution_count": 39,
     "metadata": {},
     "output_type": "execute_result"
    }
   ],
   "source": [
    "# make class predictions for X_test_dtm\n",
    "y_pred_class = logreg.predict(X_test_dtm)\n",
    "\n",
    "# calculate predicted probabilities for X_test_dtm (well calibrated)\n",
    "y_pred_prob = logreg.predict_proba(X_test_dtm)[:, 1]\n",
    "y_pred_prob"
   ]
  },
  {
   "cell_type": "code",
   "execution_count": 40,
   "id": "647ea3e2",
   "metadata": {
    "execution": {
     "iopub.execute_input": "2023-01-29T22:55:20.447432Z",
     "iopub.status.busy": "2023-01-29T22:55:20.446516Z",
     "iopub.status.idle": "2023-01-29T22:55:20.457799Z",
     "shell.execute_reply": "2023-01-29T22:55:20.456422Z"
    },
    "papermill": {
     "duration": 0.036069,
     "end_time": "2023-01-29T22:55:20.461793",
     "exception": false,
     "start_time": "2023-01-29T22:55:20.425724",
     "status": "completed"
    },
    "tags": []
   },
   "outputs": [
    {
     "name": "stdout",
     "output_type": "stream",
     "text": [
      "=======Accuracy Score===========\n",
      "0.9842067480258435\n",
      "=======Confision Matrix===========\n",
      "[[1213    0]\n",
      " [  22  158]]\n",
      "=======ROC AUC Score===========\n",
      "0.9835714940001832\n"
     ]
    }
   ],
   "source": [
    "# calculate accuracy of class predictions\n",
    "print(\"=======Accuracy Score===========\")\n",
    "print(metrics.accuracy_score(y_test, y_pred_class))\n",
    "\n",
    "# print the confusion matrix\n",
    "print(\"=======Confision Matrix===========\")\n",
    "print(metrics.confusion_matrix(y_test, y_pred_class))\n",
    "\n",
    "# calculate AUC\n",
    "print(\"=======ROC AUC Score===========\")\n",
    "print(metrics.roc_auc_score(y_test, y_pred_prob))"
   ]
  },
  {
   "cell_type": "markdown",
   "id": "8fbca009",
   "metadata": {
    "papermill": {
     "duration": 0.019637,
     "end_time": "2023-01-29T22:55:20.502402",
     "exception": false,
     "start_time": "2023-01-29T22:55:20.482765",
     "status": "completed"
    },
    "tags": []
   },
   "source": [
    "# 🧮 Tuning the vectorizer\n",
    "\n",
    "Thus far, we have been using the default parameters of [CountVectorizer:](https://scikit-learn.org/stable/modules/generated/sklearn.feature_extraction.text.CountVectorizer.html)"
   ]
  },
  {
   "cell_type": "code",
   "execution_count": 41,
   "id": "872c4c06",
   "metadata": {
    "execution": {
     "iopub.execute_input": "2023-01-29T22:55:20.544277Z",
     "iopub.status.busy": "2023-01-29T22:55:20.543376Z",
     "iopub.status.idle": "2023-01-29T22:55:20.549900Z",
     "shell.execute_reply": "2023-01-29T22:55:20.548963Z"
    },
    "papermill": {
     "duration": 0.029864,
     "end_time": "2023-01-29T22:55:20.552012",
     "exception": false,
     "start_time": "2023-01-29T22:55:20.522148",
     "status": "completed"
    },
    "tags": []
   },
   "outputs": [
    {
     "data": {
      "text/plain": [
       "CountVectorizer()"
      ]
     },
     "execution_count": 41,
     "metadata": {},
     "output_type": "execute_result"
    }
   ],
   "source": [
    "# show default parameters for CountVectorizer\n",
    "vect"
   ]
  },
  {
   "cell_type": "markdown",
   "id": "8624312a",
   "metadata": {
    "papermill": {
     "duration": 0.019552,
     "end_time": "2023-01-29T22:55:20.591306",
     "exception": false,
     "start_time": "2023-01-29T22:55:20.571754",
     "status": "completed"
    },
    "tags": []
   },
   "source": [
    "> 📌 However, the vectorizer is worth tuning, just like a model is worth tuning! Here are a few parameters that you might want to tune:\n",
    "\n",
    "> - 📌 **stop_words**: string {'english'}, list, or None (default)\n",
    "    - If 'english', a built-in stop word list for English is used.\n",
    "    - If a list, that list is assumed to contain stop words, all of which will be removed from the resulting tokens.\n",
    "    - If None, no stop words will be used."
   ]
  },
  {
   "cell_type": "code",
   "execution_count": 42,
   "id": "9867d32e",
   "metadata": {
    "execution": {
     "iopub.execute_input": "2023-01-29T22:55:20.633594Z",
     "iopub.status.busy": "2023-01-29T22:55:20.632906Z",
     "iopub.status.idle": "2023-01-29T22:55:20.637837Z",
     "shell.execute_reply": "2023-01-29T22:55:20.636968Z"
    },
    "papermill": {
     "duration": 0.028797,
     "end_time": "2023-01-29T22:55:20.640073",
     "exception": false,
     "start_time": "2023-01-29T22:55:20.611276",
     "status": "completed"
    },
    "tags": []
   },
   "outputs": [],
   "source": [
    "# remove English stop words\n",
    "vect = CountVectorizer(stop_words='english')"
   ]
  },
  {
   "cell_type": "markdown",
   "id": "43778a45",
   "metadata": {
    "papermill": {
     "duration": 0.019461,
     "end_time": "2023-01-29T22:55:20.679473",
     "exception": false,
     "start_time": "2023-01-29T22:55:20.660012",
     "status": "completed"
    },
    "tags": []
   },
   "source": [
    "> - 📌 **ngram_range**: tuple (min_n, max_n), default=(1, 1)\n",
    "    - The lower and upper boundary of the range of n-values for different n-grams to be extracted.\n",
    "    - All values of n such that min_n <= n <= max_n will be used."
   ]
  },
  {
   "cell_type": "code",
   "execution_count": 43,
   "id": "c1f7e1ce",
   "metadata": {
    "execution": {
     "iopub.execute_input": "2023-01-29T22:55:20.721430Z",
     "iopub.status.busy": "2023-01-29T22:55:20.720791Z",
     "iopub.status.idle": "2023-01-29T22:55:20.725759Z",
     "shell.execute_reply": "2023-01-29T22:55:20.724871Z"
    },
    "papermill": {
     "duration": 0.028716,
     "end_time": "2023-01-29T22:55:20.728022",
     "exception": false,
     "start_time": "2023-01-29T22:55:20.699306",
     "status": "completed"
    },
    "tags": []
   },
   "outputs": [],
   "source": [
    "# include 1-grams and 2-grams\n",
    "vect = CountVectorizer(ngram_range=(1, 2))"
   ]
  },
  {
   "cell_type": "markdown",
   "id": "b297b7ca",
   "metadata": {
    "papermill": {
     "duration": 0.02013,
     "end_time": "2023-01-29T22:55:20.768877",
     "exception": false,
     "start_time": "2023-01-29T22:55:20.748747",
     "status": "completed"
    },
    "tags": []
   },
   "source": [
    "> - 📌 **max_df**: float in range [0.0, 1.0] or int, default=1.0\n",
    "    - When building the vocabulary, ignore terms that have a document frequency strictly higher than the given threshold (corpus-specific stop words).\n",
    "    - If float, the parameter represents a proportion of documents.\n",
    "    - If integer, the parameter represents an absolute count."
   ]
  },
  {
   "cell_type": "code",
   "execution_count": 44,
   "id": "d33ce386",
   "metadata": {
    "execution": {
     "iopub.execute_input": "2023-01-29T22:55:20.811691Z",
     "iopub.status.busy": "2023-01-29T22:55:20.810769Z",
     "iopub.status.idle": "2023-01-29T22:55:20.816385Z",
     "shell.execute_reply": "2023-01-29T22:55:20.815506Z"
    },
    "papermill": {
     "duration": 0.02962,
     "end_time": "2023-01-29T22:55:20.818799",
     "exception": false,
     "start_time": "2023-01-29T22:55:20.789179",
     "status": "completed"
    },
    "tags": []
   },
   "outputs": [],
   "source": [
    "# ignore terms that appear in more than 50% of the documents\n",
    "vect = CountVectorizer(max_df=0.5)"
   ]
  },
  {
   "cell_type": "markdown",
   "id": "e1eea9c5",
   "metadata": {
    "papermill": {
     "duration": 0.0199,
     "end_time": "2023-01-29T22:55:20.859115",
     "exception": false,
     "start_time": "2023-01-29T22:55:20.839215",
     "status": "completed"
    },
    "tags": []
   },
   "source": [
    "> - 📌 **min_df**: float in range [0.0, 1.0] or int, default=1\n",
    "    - When building the vocabulary, ignore terms that have a document frequency strictly lower than the given threshold. (This value is also called \"cut-off\" in the literature.)\n",
    "    - If float, the parameter represents a proportion of documents.\n",
    "    - If integer, the parameter represents an absolute count."
   ]
  },
  {
   "cell_type": "code",
   "execution_count": 45,
   "id": "e78f6b28",
   "metadata": {
    "execution": {
     "iopub.execute_input": "2023-01-29T22:55:20.901547Z",
     "iopub.status.busy": "2023-01-29T22:55:20.900739Z",
     "iopub.status.idle": "2023-01-29T22:55:20.905782Z",
     "shell.execute_reply": "2023-01-29T22:55:20.904986Z"
    },
    "papermill": {
     "duration": 0.028989,
     "end_time": "2023-01-29T22:55:20.908092",
     "exception": false,
     "start_time": "2023-01-29T22:55:20.879103",
     "status": "completed"
    },
    "tags": []
   },
   "outputs": [],
   "source": [
    "# only keep terms that appear in at least 2 documents\n",
    "vect = CountVectorizer(min_df=2)"
   ]
  },
  {
   "cell_type": "markdown",
   "id": "283b0937",
   "metadata": {
    "papermill": {
     "duration": 0.019781,
     "end_time": "2023-01-29T22:55:20.947653",
     "exception": false,
     "start_time": "2023-01-29T22:55:20.927872",
     "status": "completed"
    },
    "tags": []
   },
   "source": [
    "> - 📌 **Guidelines for tuning CountVectorizer**:\n",
    "    - Use your knowledge of the problem and the text, and your understanding of the tuning parameters, to help you decide what parameters to tune and how to tune them.\n",
    "    - Experiment, and let the data tell you the best approach!"
   ]
  }
 ],
 "metadata": {
  "kernelspec": {
   "display_name": "Python 3 (ipykernel)",
   "language": "python",
   "name": "python3"
  },
  "language_info": {
   "codemirror_mode": {
    "name": "ipython",
    "version": 3
   },
   "file_extension": ".py",
   "mimetype": "text/x-python",
   "name": "python",
   "nbconvert_exporter": "python",
   "pygments_lexer": "ipython3",
   "version": "3.8.10"
  },
  "papermill": {
   "default_parameters": {},
   "duration": 18.386456,
   "end_time": "2023-01-29T22:55:21.791103",
   "environment_variables": {},
   "exception": null,
   "input_path": "__notebook__.ipynb",
   "output_path": "__notebook__.ipynb",
   "parameters": {},
   "start_time": "2023-01-29T22:55:03.404647",
   "version": "2.3.4"
  }
 },
 "nbformat": 4,
 "nbformat_minor": 5
}
